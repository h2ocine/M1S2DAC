{
 "cells": [
  {
   "cell_type": "code",
   "execution_count": 82,
   "metadata": {},
   "outputs": [],
   "source": [
    "from sklearn.model_selection import GridSearchCV\n",
    "from sklearn.pipeline import Pipeline\n",
    "from sklearn.feature_extraction.text import CountVectorizer, TfidfVectorizer\n",
    "from sklearn.linear_model import LogisticRegression, LogisticRegressionCV\n",
    "from sklearn.ensemble import RandomForestClassifier\n",
    "from sklearn.svm import SVC, LinearSVC\n",
    "from sklearn.feature_extraction.text import CountVectorizer, TfidfVectorizer\n",
    "from sklearn.model_selection import GridSearchCV\n",
    "from sklearn.pipeline import Pipeline\n",
    "from sklearn.naive_bayes import BernoulliNB\n",
    "\n",
    "from sklearn import (\n",
    "    linear_model, \n",
    "    ensemble,\n",
    "    tree,\n",
    "    decomposition, \n",
    "    naive_bayes, \n",
    "    neural_network,\n",
    "    svm,\n",
    "    metrics,\n",
    "    preprocessing, \n",
    "    model_selection, \n",
    "    pipeline,\n",
    ")\n",
    "from sklearn.feature_extraction.text import CountVectorizer, TfidfVectorizer\n",
    "from sklearn.model_selection import train_test_split\n",
    "from sklearn.svm import SVC\n",
    "from sklearn.metrics import accuracy_score, f1_score, roc_auc_score, auc, roc_curve\n",
    "from sklearn.tree import DecisionTreeClassifier\n",
    "from sklearn.ensemble import RandomForestClassifier, AdaBoostClassifier\n",
    "from sklearn.feature_extraction.text import CountVectorizer, TfidfVectorizer, HashingVectorizer\n",
    "from sklearn.decomposition import PCA\n",
    "from sklearn.preprocessing import StandardScaler, MinMaxScaler\n",
    "import numpy as np\n",
    "import pandas as pd\n",
    "\n",
    "import utils\n",
    "\n",
    "\n",
    "red_code = '\\033[91m'\n",
    "blue_code = '\\033[94m'\n",
    "green_code = '\\033[92m'\n",
    "yellow_code = '\\033[93m'\n",
    "reset_code = '\\033[0m'"
   ]
  },
  {
   "cell_type": "markdown",
   "metadata": {},
   "source": [
    "## Load Data "
   ]
  },
  {
   "cell_type": "code",
   "execution_count": 15,
   "metadata": {},
   "outputs": [],
   "source": [
    "def load_movies(path2data): # 1 classe par répertoire\n",
    "    alltxts = [] # init vide\n",
    "    labs = []\n",
    "    cpt = 0\n",
    "    for cl in os.listdir(path2data): # parcours des fichiers d'un répertoire\n",
    "        for f in os.listdir(path2data+cl):\n",
    "            txt = open(path2data+cl+'/'+f).read()\n",
    "            alltxts.append(txt)\n",
    "            labs.append(cpt)\n",
    "        cpt+=1 # chg répertoire = cht classe\n",
    "        \n",
    "    return alltxts,labs"
   ]
  },
  {
   "cell_type": "code",
   "execution_count": 16,
   "metadata": {},
   "outputs": [],
   "source": [
    "path = \"./datasets/movies/movies1000/\"\n",
    "alltxts,alllabs = utils.load_movies(path)\n",
    "\n",
    "movies_df = pd.DataFrame()\n",
    "movies_df['text'] = alltxts\n",
    "movies_df['label'] = alllabs\n"
   ]
  },
  {
   "cell_type": "code",
   "execution_count": 17,
   "metadata": {},
   "outputs": [],
   "source": [
    "preprocessed_alltxts = [utils.preprocess(alltxt) for alltxt in movies_df.text]\n",
    "\n",
    "preprocessed_movies_df = pd.DataFrame()\n",
    "preprocessed_movies_df['text'] = preprocessed_alltxts\n",
    "preprocessed_movies_df['label'] = alllabs"
   ]
  },
  {
   "cell_type": "code",
   "execution_count": 78,
   "metadata": {},
   "outputs": [],
   "source": [
    "X_text_train, X_text_test, y_train, y_test = model_selection.train_test_split(preprocessed_movies_df['text'], preprocessed_movies_df['label'], test_size=0.2, random_state=24)"
   ]
  },
  {
   "cell_type": "markdown",
   "metadata": {},
   "source": [
    "### GRID SEARCH"
   ]
  },
  {
   "cell_type": "markdown",
   "metadata": {},
   "source": [
    "### Logistique regression :"
   ]
  },
  {
   "cell_type": "code",
   "execution_count": 102,
   "metadata": {},
   "outputs": [
    {
     "name": "stderr",
     "output_type": "stream",
     "text": [
      "C:\\Users\\NeilB\\AppData\\Local\\Packages\\PythonSoftwareFoundation.Python.3.11_qbz5n2kfra8p0\\LocalCache\\local-packages\\Python311\\site-packages\\sklearn\\linear_model\\_logistic.py:469: ConvergenceWarning: lbfgs failed to converge (status=1):\n",
      "STOP: TOTAL NO. of ITERATIONS REACHED LIMIT.\n",
      "\n",
      "Increase the number of iterations (max_iter) or scale the data as shown in:\n",
      "    https://scikit-learn.org/stable/modules/preprocessing.html\n",
      "Please also refer to the documentation for alternative solver options:\n",
      "    https://scikit-learn.org/stable/modules/linear_model.html#logistic-regression\n",
      "  n_iter_i = _check_optimize_result(\n"
     ]
    },
    {
     "name": "stdout",
     "output_type": "stream",
     "text": [
      "Classifier: LogisticRegression, Vectorizer: CountVectorizer\n",
      "Best parameters found:\n",
      "{'vectorizer__max_features': 10000, 'vectorizer__ngram_range': (1, 2), 'vectorizer__stop_words': None}\n",
      "Best cross-validation f1:\n",
      "0.8387500000000001\n",
      "\n",
      "Classification Report:\n",
      "              precision    recall  f1-score   support\n",
      "\n",
      "           0       0.82      0.84      0.83       193\n",
      "           1       0.85      0.83      0.84       207\n",
      "\n",
      "    accuracy                           0.83       400\n",
      "   macro avg       0.83      0.83      0.83       400\n",
      "weighted avg       0.83      0.83      0.83       400\n",
      "\n",
      "\n",
      "Classifier: LogisticRegression, Vectorizer: TfidfVectorizer\n",
      "Best parameters found:\n",
      "{'vectorizer__max_features': 10000, 'vectorizer__ngram_range': (1, 3), 'vectorizer__stop_words': None}\n",
      "Best cross-validation f1:\n",
      "0.8625\n",
      "\n",
      "Classification Report:\n",
      "              precision    recall  f1-score   support\n",
      "\n",
      "           0       0.83      0.87      0.85       193\n",
      "           1       0.87      0.84      0.86       207\n",
      "\n",
      "    accuracy                           0.85       400\n",
      "   macro avg       0.85      0.85      0.85       400\n",
      "weighted avg       0.85      0.85      0.85       400\n",
      "\n",
      "\n"
     ]
    }
   ],
   "source": [
    "from sklearn.model_selection import GridSearchCV\n",
    "from sklearn.pipeline import Pipeline\n",
    "from sklearn.feature_extraction.text import CountVectorizer, TfidfVectorizer\n",
    "\n",
    "vectorizers = [\n",
    "    ('CountVectorizer', CountVectorizer()),\n",
    "    ('TfidfVectorizer', TfidfVectorizer(smooth_idf=True, sublinear_tf=True))\n",
    "]\n",
    "\n",
    "param_grid = {\n",
    "    'vectorizer__ngram_range': [(1, 1), (1, 2), (1, 3)],\n",
    "    'vectorizer__stop_words': [None, 'english'],\n",
    "    'vectorizer__max_features': [1000, 5000, 10000, None],\n",
    "\n",
    "}\n",
    "\n",
    "for vectorizer_name, vectorizer in vectorizers:\n",
    "    pipe = Pipeline([\n",
    "        ('vectorizer', vectorizer),\n",
    "        ('classifier', LogisticRegression())\n",
    "    ])\n",
    "\n",
    "    grid_search = GridSearchCV(pipe, param_grid, cv=5, scoring='f1_micro', n_jobs = -1, refit = True)  # Modifier les paramètres CV et scoring\n",
    "    grid_search.fit(X_text_train, y_train)\n",
    "\n",
    "\n",
    "    print(f\"Classifier: LogisticRegression, Vectorizer: {vectorizer_name}\")\n",
    "    print(\"Best parameters found:\")\n",
    "    print(grid_search.best_params_)\n",
    "    print(\"Best cross-validation f1:\")\n",
    "    print(grid_search.best_score_)\n",
    "    print(\"\")\n",
    "\n",
    "    best_model = grid_search.best_estimator_\n",
    "\n",
    "    y_pred = best_model.predict(X_text_test)\n",
    "    report = metrics.classification_report(y_test, y_pred)\n",
    "    print(\"Classification Report:\")\n",
    "    print(report)\n",
    "    print(\"\")\n"
   ]
  },
  {
   "cell_type": "markdown",
   "metadata": {},
   "source": [
    "### SVM"
   ]
  },
  {
   "cell_type": "code",
   "execution_count": 42,
   "metadata": {},
   "outputs": [
    {
     "name": "stdout",
     "output_type": "stream",
     "text": [
      "Classifier: LogisticRegression, Vectorizer: CountVectorizer\n",
      "Best parameters found:\n",
      "{'classifier__C': 0.1, 'classifier__class_weight': None, 'classifier__degree': 2, 'classifier__gamma': 0.1, 'classifier__kernel': 'linear', 'classifier__probability': False, 'vectorizer__max_features': None, 'vectorizer__ngram_range': (1, 2), 'vectorizer__stop_words': None}\n",
      "Best cross-validation f1:\n",
      "0.828125\n",
      "\n",
      "Classification Report:\n",
      "              precision    recall  f1-score   support\n",
      "\n",
      "           0       0.80      0.82      0.81       193\n",
      "           1       0.83      0.81      0.82       207\n",
      "\n",
      "    accuracy                           0.81       400\n",
      "   macro avg       0.81      0.81      0.81       400\n",
      "weighted avg       0.81      0.81      0.81       400\n",
      "\n",
      "\n",
      "Classifier: LogisticRegression, Vectorizer: TfidfVectorizer\n",
      "Best parameters found:\n",
      "{'classifier__C': 10, 'classifier__class_weight': None, 'classifier__degree': 2, 'classifier__gamma': 0.1, 'classifier__kernel': 'rbf', 'classifier__probability': False, 'vectorizer__max_features': 5000, 'vectorizer__ngram_range': (1, 3), 'vectorizer__stop_words': None}\n",
      "Best cross-validation f1:\n",
      "0.8643750000000001\n",
      "\n",
      "Classification Report:\n",
      "              precision    recall  f1-score   support\n",
      "\n",
      "           0       0.80      0.82      0.81       193\n",
      "           1       0.83      0.81      0.82       207\n",
      "\n",
      "    accuracy                           0.81       400\n",
      "   macro avg       0.81      0.81      0.81       400\n",
      "weighted avg       0.81      0.81      0.81       400\n",
      "\n",
      "\n"
     ]
    }
   ],
   "source": [
    "from sklearn.model_selection import GridSearchCV\n",
    "from sklearn.pipeline import Pipeline\n",
    "from sklearn.feature_extraction.text import CountVectorizer, TfidfVectorizer\n",
    "\n",
    "vectorizers = [\n",
    "    ('CountVectorizer', CountVectorizer()),\n",
    "    ('TfidfVectorizer', TfidfVectorizer(sublinear_tf=True))\n",
    "]\n",
    "\n",
    "param_grid = {\n",
    "    'vectorizer__ngram_range': [(1, 1), (1, 2), (1, 3)],\n",
    "    'vectorizer__stop_words': [None, 'english'],\n",
    "    'vectorizer__max_features': [1000, 5000, 10000, None],\n",
    "    'classifier__C': [0.1, 1, 10],\n",
    "    'classifier__kernel': ['linear', 'rbf'],\n",
    "    'classifier__gamma': [0.1, 0.01],\n",
    "    'classifier__degree': [2, 3],\n",
    "    'classifier__class_weight': [None, 'balanced'],\n",
    "    'classifier__probability': [False, True]\n",
    "}\n",
    "\n",
    "for vectorizer_name, vectorizer in vectorizers:\n",
    "    pipe = Pipeline([\n",
    "        ('vectorizer', vectorizer),\n",
    "        ('classifier', SVC())\n",
    "    ])\n",
    "\n",
    "    grid_search = GridSearchCV(pipe, param_grid, cv=5, scoring='f1_micro', n_jobs = -1, refit = True)  # Modifier les paramètres CV et scoring\n",
    "    grid_search.fit(X_text_train, y_train)\n",
    "\n",
    "\n",
    "    print(f\"Classifier: LogisticRegression, Vectorizer: {vectorizer_name}\")\n",
    "    print(\"Best parameters found:\")\n",
    "    print(grid_search.best_params_)\n",
    "    print(\"Best cross-validation f1:\")\n",
    "    print(grid_search.best_score_)\n",
    "    print(\"\")\n",
    "\n",
    "    best_model_svm = grid_search.best_estimator_\n",
    "\n",
    "    y_pred = best_model.predict(X_text_test)\n",
    "    report = metrics.classification_report(y_test, y_pred)\n",
    "    print(\"Classification Report:\")\n",
    "    print(report)\n",
    "    print(\"\")\n"
   ]
  },
  {
   "cell_type": "code",
   "execution_count": 103,
   "metadata": {},
   "outputs": [
    {
     "name": "stdout",
     "output_type": "stream",
     "text": [
      "Classification Report:\n",
      "              precision    recall  f1-score   support\n",
      "\n",
      "           0       0.81      0.84      0.83       194\n",
      "           1       0.84      0.82      0.83       206\n",
      "\n",
      "    accuracy                           0.83       400\n",
      "   macro avg       0.83      0.83      0.83       400\n",
      "weighted avg       0.83      0.83      0.83       400\n",
      "\n",
      "\n"
     ]
    }
   ],
   "source": [
    "\n",
    "pipe = Pipeline([\n",
    "    ('vectorizer', CountVectorizer(max_features = None, ngram_range = (1, 2), stop_words = None)),\n",
    "    ('classifier', SVC(C = 0.1, class_weight = None, degree = 2, gamma = 0.1, kernel = 'linear', probability = False))\n",
    "])\n",
    "\n",
    "pipe.fit(X_text_train, y_train)\n",
    "\n",
    "y_pred = pipe.predict(X_text_test)\n",
    "report = metrics.classification_report(y_test, y_pred)\n",
    "print(\"Classification Report:\")\n",
    "print(report)\n",
    "print(\"\")"
   ]
  },
  {
   "cell_type": "code",
   "execution_count": 114,
   "metadata": {},
   "outputs": [
    {
     "name": "stdout",
     "output_type": "stream",
     "text": [
      "Classification Report:\n",
      "              precision    recall  f1-score   support\n",
      "\n",
      "           0       0.83      0.87      0.85       193\n",
      "           1       0.87      0.83      0.85       207\n",
      "\n",
      "    accuracy                           0.85       400\n",
      "   macro avg       0.85      0.85      0.85       400\n",
      "weighted avg       0.85      0.85      0.85       400\n",
      "\n",
      "\n"
     ]
    }
   ],
   "source": [
    "y_pred = best_model_svm.predict(X_text_test)\n",
    "report = metrics.classification_report(y_test, y_pred)\n",
    "print(\"Classification Report:\")\n",
    "print(report)\n",
    "print(\"\")"
   ]
  },
  {
   "cell_type": "code",
   "execution_count": 47,
   "metadata": {},
   "outputs": [
    {
     "data": {
      "text/plain": [
       "['svm_model_tfidf.joblib']"
      ]
     },
     "execution_count": 47,
     "metadata": {},
     "output_type": "execute_result"
    }
   ],
   "source": [
    "from sklearn import svm\n",
    "from joblib import dump\n",
    "\n",
    "dump(best_model_svm, 'svm_model_tfidf.joblib')"
   ]
  },
  {
   "cell_type": "markdown",
   "metadata": {},
   "source": [
    "### Random forest\n"
   ]
  },
  {
   "cell_type": "code",
   "execution_count": 43,
   "metadata": {},
   "outputs": [
    {
     "name": "stdout",
     "output_type": "stream",
     "text": [
      "Classifier: LogisticRegression, Vectorizer: CountVectorizer\n",
      "Best parameters found:\n",
      "{'classifier__max_depth': 10, 'classifier__min_samples_leaf': 1, 'classifier__min_samples_split': 10, 'classifier__n_estimators': 500, 'vectorizer__max_features': 10000, 'vectorizer__ngram_range': (1, 2), 'vectorizer__stop_words': 'english'}\n",
      "Best cross-validation f1:\n",
      "0.86\n",
      "\n",
      "Classification Report:\n",
      "              precision    recall  f1-score   support\n",
      "\n",
      "           0       0.80      0.82      0.81       193\n",
      "           1       0.83      0.81      0.82       207\n",
      "\n",
      "    accuracy                           0.81       400\n",
      "   macro avg       0.81      0.81      0.81       400\n",
      "weighted avg       0.81      0.81      0.81       400\n",
      "\n",
      "\n",
      "Classifier: LogisticRegression, Vectorizer: TfidfVectorizer\n",
      "Best parameters found:\n",
      "{'classifier__max_depth': 10, 'classifier__min_samples_leaf': 4, 'classifier__min_samples_split': 5, 'classifier__n_estimators': 500, 'vectorizer__max_features': 5000, 'vectorizer__ngram_range': (1, 2), 'vectorizer__stop_words': None}\n",
      "Best cross-validation f1:\n",
      "0.8412499999999999\n",
      "\n",
      "Classification Report:\n",
      "              precision    recall  f1-score   support\n",
      "\n",
      "           0       0.80      0.82      0.81       193\n",
      "           1       0.83      0.81      0.82       207\n",
      "\n",
      "    accuracy                           0.81       400\n",
      "   macro avg       0.81      0.81      0.81       400\n",
      "weighted avg       0.81      0.81      0.81       400\n",
      "\n",
      "\n"
     ]
    }
   ],
   "source": [
    "from sklearn.model_selection import GridSearchCV\n",
    "from sklearn.pipeline import Pipeline\n",
    "from sklearn.feature_extraction.text import CountVectorizer, TfidfVectorizer\n",
    "\n",
    "vectorizers = [\n",
    "    ('CountVectorizer', CountVectorizer()),\n",
    "    ('TfidfVectorizer', TfidfVectorizer())\n",
    "]\n",
    "\n",
    "param_grid = {\n",
    "    'vectorizer__ngram_range': [(1, 1), (1, 2), (1, 3)],\n",
    "    'vectorizer__stop_words': [None, 'english'],\n",
    "    'vectorizer__max_features': [1000, 5000, 10000, None],\n",
    "    'classifier__n_estimators': [100, 200, 500],\n",
    "    'classifier__max_depth': [None, 10, 20],\n",
    "    'classifier__min_samples_split': [2, 5, 10],\n",
    "    'classifier__min_samples_leaf': [1, 2, 4]\n",
    "}\n",
    "\n",
    "for vectorizer_name, vectorizer in vectorizers:\n",
    "    pipe = Pipeline([\n",
    "        ('vectorizer', vectorizer),\n",
    "        ('classifier', RandomForestClassifier())\n",
    "    ])\n",
    "\n",
    "    grid_search = GridSearchCV(pipe, param_grid, cv=5, scoring='f1_micro', n_jobs = -1, refit = True)  # Modifier les paramètres CV et scoring\n",
    "    grid_search.fit(X_text_train, y_train)\n",
    "\n",
    "\n",
    "    print(f\"Classifier: LogisticRegression, Vectorizer: {vectorizer_name}\")\n",
    "    print(\"Best parameters found:\")\n",
    "    print(grid_search.best_params_)\n",
    "    print(\"Best cross-validation f1:\")\n",
    "    print(grid_search.best_score_)\n",
    "    print(\"\")\n",
    "\n",
    "    best_model_rf = grid_search.best_estimator_\n",
    "\n",
    "    y_pred = best_model.predict(X_text_test)\n",
    "    report = metrics.classification_report(y_test, y_pred)\n",
    "    print(\"Classification Report:\")\n",
    "    print(report)\n",
    "    print(\"\")\n"
   ]
  },
  {
   "cell_type": "code",
   "execution_count": 39,
   "metadata": {},
   "outputs": [
    {
     "name": "stdout",
     "output_type": "stream",
     "text": [
      "Classification Report:\n",
      "              precision    recall  f1-score   support\n",
      "\n",
      "           0       0.87      0.86      0.86       194\n",
      "           1       0.87      0.88      0.87       206\n",
      "\n",
      "    accuracy                           0.87       400\n",
      "   macro avg       0.87      0.87      0.87       400\n",
      "weighted avg       0.87      0.87      0.87       400\n",
      "\n",
      "\n"
     ]
    }
   ],
   "source": [
    "pipe = Pipeline([\n",
    "    ('vectorizer', CountVectorizer(max_features=5000, ngram_range=(1, 2), stop_words='english')),\n",
    "    ('classifier', RandomForestClassifier(max_depth=10, min_samples_leaf=1, min_samples_split=10, n_estimators=500))\n",
    "])\n",
    "\n",
    "pipe.fit(X_text_train, y_train)\n",
    "\n",
    "y_pred = pipe.predict(X_text_test)\n",
    "report = metrics.classification_report(y_test, y_pred)\n",
    "print(\"Classification Report:\")\n",
    "print(report)\n",
    "print(\"\")"
   ]
  },
  {
   "cell_type": "code",
   "execution_count": 45,
   "metadata": {},
   "outputs": [
    {
     "name": "stdout",
     "output_type": "stream",
     "text": [
      "Classification Report:\n",
      "              precision    recall  f1-score   support\n",
      "\n",
      "           0       0.85      0.81      0.83       194\n",
      "           1       0.83      0.86      0.85       206\n",
      "\n",
      "    accuracy                           0.84       400\n",
      "   macro avg       0.84      0.84      0.84       400\n",
      "weighted avg       0.84      0.84      0.84       400\n",
      "\n",
      "\n"
     ]
    }
   ],
   "source": [
    "pipe = Pipeline([\n",
    "    ('vectorizer', TfidfVectorizer(max_features=5000, ngram_range=(1, 2), sublinear_tf=True )),\n",
    "    ('classifier', RandomForestClassifier(max_depth=10, min_samples_leaf=1, min_samples_split=10, n_estimators=500))\n",
    "])\n",
    "\n",
    "pipe.fit(X_text_train, y_train)\n",
    "\n",
    "y_pred = pipe.predict(X_text_test)\n",
    "report = metrics.classification_report(y_test, y_pred)\n",
    "print(\"Classification Report:\")\n",
    "print(report)\n",
    "print(\"\")"
   ]
  },
  {
   "cell_type": "markdown",
   "metadata": {},
   "source": [
    "### Naive bayes bernoulli"
   ]
  },
  {
   "cell_type": "code",
   "execution_count": 44,
   "metadata": {},
   "outputs": [
    {
     "name": "stdout",
     "output_type": "stream",
     "text": [
      "Classifier: LogisticRegression, Vectorizer: CountVectorizer\n",
      "Best parameters found:\n",
      "{'classifier__alpha': 0.1, 'classifier__binarize': 0.0, 'vectorizer__max_features': 5000, 'vectorizer__ngram_range': (1, 3), 'vectorizer__stop_words': 'english'}\n",
      "Best cross-validation f1:\n",
      "0.819375\n",
      "\n",
      "Classification Report:\n",
      "              precision    recall  f1-score   support\n",
      "\n",
      "           0       0.80      0.82      0.81       193\n",
      "           1       0.83      0.81      0.82       207\n",
      "\n",
      "    accuracy                           0.81       400\n",
      "   macro avg       0.81      0.81      0.81       400\n",
      "weighted avg       0.81      0.81      0.81       400\n",
      "\n",
      "\n",
      "Classifier: LogisticRegression, Vectorizer: TfidfVectorizer\n",
      "Best parameters found:\n",
      "{'classifier__alpha': 0.1, 'classifier__binarize': 0.0, 'vectorizer__max_features': 5000, 'vectorizer__ngram_range': (1, 3), 'vectorizer__stop_words': 'english'}\n",
      "Best cross-validation f1:\n",
      "0.819375\n",
      "\n",
      "Classification Report:\n",
      "              precision    recall  f1-score   support\n",
      "\n",
      "           0       0.80      0.82      0.81       193\n",
      "           1       0.83      0.81      0.82       207\n",
      "\n",
      "    accuracy                           0.81       400\n",
      "   macro avg       0.81      0.81      0.81       400\n",
      "weighted avg       0.81      0.81      0.81       400\n",
      "\n",
      "\n"
     ]
    }
   ],
   "source": [
    "\n",
    "from sklearn.model_selection import GridSearchCV\n",
    "from sklearn.pipeline import Pipeline\n",
    "from sklearn.feature_extraction.text import CountVectorizer, TfidfVectorizer\n",
    "from sklearn.naive_bayes import BernoulliNB\n",
    "vectorizers = [\n",
    "    ('CountVectorizer', CountVectorizer()),\n",
    "    ('TfidfVectorizer', TfidfVectorizer())\n",
    "]\n",
    "\n",
    "param_grid = {\n",
    "    'vectorizer__ngram_range': [(1, 1), (1, 2), (1, 3)],\n",
    "    'vectorizer__stop_words': [None, 'english'],\n",
    "    'vectorizer__max_features': [1000, 5000, 10000, None],\n",
    "    'classifier__alpha': [0.1, 1.0, 10.0],\n",
    "    'classifier__binarize': [0.0, 0.5, 1.0]\n",
    "}\n",
    "\n",
    "for vectorizer_name, vectorizer in vectorizers:\n",
    "    pipe = Pipeline([\n",
    "        ('vectorizer', vectorizer),\n",
    "        ('classifier', BernoulliNB())\n",
    "    ])\n",
    "\n",
    "    grid_search = GridSearchCV(pipe, param_grid, cv=5, scoring='f1_micro', n_jobs = -1, refit = True)  # Modifier les paramètres CV et scoring\n",
    "    grid_search.fit(X_text_train, y_train)\n",
    "\n",
    "\n",
    "    print(f\"Classifier: LogisticRegression, Vectorizer: {vectorizer_name}\")\n",
    "    print(\"Best parameters found:\")\n",
    "    print(grid_search.best_params_)\n",
    "    print(\"Best cross-validation f1:\")\n",
    "    print(grid_search.best_score_)\n",
    "    print(\"\")\n",
    "\n",
    "    best_model_nb = grid_search.best_estimator_\n",
    "\n",
    "    y_pred = best_model.predict(X_text_test)\n",
    "    report = metrics.classification_report(y_test, y_pred)\n",
    "    print(\"Classification Report:\")\n",
    "    print(report)\n",
    "    print(\"\")\n"
   ]
  },
  {
   "cell_type": "code",
   "execution_count": 80,
   "metadata": {},
   "outputs": [
    {
     "name": "stdout",
     "output_type": "stream",
     "text": [
      "Classification Report:\n",
      "              precision    recall  f1-score   support\n",
      "\n",
      "           0       0.77      0.82      0.80       194\n",
      "           1       0.82      0.77      0.80       206\n",
      "\n",
      "    accuracy                           0.80       400\n",
      "   macro avg       0.80      0.80      0.80       400\n",
      "weighted avg       0.80      0.80      0.80       400\n",
      "\n",
      "\n"
     ]
    }
   ],
   "source": [
    "pipe = Pipeline([\n",
    "    ('vectorizer', CountVectorizer(max_features=5000, ngram_range=(1,3))),\n",
    "    ('classifier', BernoulliNB())\n",
    "])\n",
    "\n",
    "pipe.fit(X_text_train, y_train)\n",
    "\n",
    "y_pred = pipe.predict(X_text_test)\n",
    "report = metrics.classification_report(y_test, y_pred)\n",
    "print(\"Classification Report:\")\n",
    "print(report)\n",
    "print(\"\")"
   ]
  },
  {
   "cell_type": "code",
   "execution_count": 79,
   "metadata": {},
   "outputs": [
    {
     "name": "stdout",
     "output_type": "stream",
     "text": [
      "Classification Report:\n",
      "              precision    recall  f1-score   support\n",
      "\n",
      "           0       0.77      0.82      0.80       194\n",
      "           1       0.82      0.77      0.80       206\n",
      "\n",
      "    accuracy                           0.80       400\n",
      "   macro avg       0.80      0.80      0.80       400\n",
      "weighted avg       0.80      0.80      0.80       400\n",
      "\n",
      "\n"
     ]
    }
   ],
   "source": [
    "pipe = Pipeline([\n",
    "    ('vectorizer', TfidfVectorizer(max_features=5000, ngram_range=(1,3))),\n",
    "    ('classifier', BernoulliNB())\n",
    "])\n",
    "\n",
    "pipe.fit(X_text_train, y_train)\n",
    "\n",
    "y_pred = pipe.predict(X_text_test)\n",
    "report = metrics.classification_report(y_test, y_pred)\n",
    "print(\"Classification Report:\")\n",
    "print(report)\n",
    "print(\"\")"
   ]
  },
  {
   "cell_type": "markdown",
   "metadata": {},
   "source": [
    "###  SVD pour la regression logistique "
   ]
  },
  {
   "cell_type": "code",
   "execution_count": null,
   "metadata": {},
   "outputs": [],
   "source": [
    "X_text_train2, X_text_test2, y_train2, y_test2 = model_selection.train_test_split(preprocessed_movies_df['text'], preprocessed_movies_df['label'], test_size=0.2)"
   ]
  },
  {
   "cell_type": "code",
   "execution_count": 81,
   "metadata": {},
   "outputs": [
    {
     "name": "stdout",
     "output_type": "stream",
     "text": [
      "Classification Report:\n",
      "              precision    recall  f1-score   support\n",
      "\n",
      "           0       0.91      0.86      0.88       194\n",
      "           1       0.87      0.92      0.90       206\n",
      "\n",
      "    accuracy                           0.89       400\n",
      "   macro avg       0.89      0.89      0.89       400\n",
      "weighted avg       0.89      0.89      0.89       400\n",
      "\n",
      "\n"
     ]
    }
   ],
   "source": [
    "from sklearn.decomposition import TruncatedSVD\n",
    "from sklearn.preprocessing import FunctionTransformer\n",
    "\n",
    "# Créer une fonction personnalisée pour la normalisation MinMax\n",
    "def min_max_normalize(X):\n",
    "    X_normalized = (X - X.min()) / (X.max() - X.min())\n",
    "    return X_normalized\n",
    "\n",
    "\n",
    "pipe = Pipeline([\n",
    "    ('vectorizer', TfidfVectorizer(sublinear_tf =  True)),\n",
    "    ('normalize', FunctionTransformer(min_max_normalize, validate=False)),\n",
    "    ('svd', TruncatedSVD(n_components=5000)),  # Ajout de l'étape SVD\n",
    "    ('classifier', LogisticRegressionCV())\n",
    "])\n",
    "\n",
    "pipe.fit(X_text_train, y_train)\n",
    "\n",
    "\n",
    "y_pred = pipe.predict(X_text_test)\n",
    "report = metrics.classification_report(y_test, y_pred)\n",
    "print(\"Classification Report:\")\n",
    "print(report)\n",
    "print(\"\")"
   ]
  },
  {
   "cell_type": "code",
   "execution_count": null,
   "metadata": {},
   "outputs": [],
   "source": []
  },
  {
   "cell_type": "code",
   "execution_count": 96,
   "metadata": {},
   "outputs": [],
   "source": [
    "fichier = open(\"./eval/testSentiment.txt\", \"r\", encoding=\"utf-8\")\n",
    "contenu = fichier.read()\n",
    "fichier.close()\n",
    "eval_lines = contenu.split(\"\\n\")"
   ]
  },
  {
   "cell_type": "code",
   "execution_count": 97,
   "metadata": {},
   "outputs": [
    {
     "data": {
      "text/plain": [
       "'this is one of the dumbest films ive ever seen it rips off nearly ever type of thriller and manages to make a mess of them allbr br theres not a single good line or character in the whole mess if there was a plot it was an afterthought and as far as acting goes theres nothing good to say so ill say nothing i honestly cant understand how this type of nonsense gets produced and actually released does somebody somewhere not at some stage think oh my god this really is a load of shite and call it a day its crap like this that has people downloading illegally the trailer looks like a completely different film at least if you have download it you havent wasted your time or money dont waste your time this is painful'"
      ]
     },
     "execution_count": 97,
     "metadata": {},
     "output_type": "execute_result"
    }
   ],
   "source": [
    "preprocessed_eval_lines = [utils.preprocess(line) for line in eval_lines]\n",
    "preprocessed_eval_lines = preprocessed_eval_lines[:-1]\n",
    "preprocessed_eval_lines[-1]"
   ]
  },
  {
   "cell_type": "code",
   "execution_count": 98,
   "metadata": {},
   "outputs": [],
   "source": [
    "y_eval_prob = pipe.predict(preprocessed_eval_lines)\n",
    "\n",
    "with open(\"./eval_tfidfsvd.txt\", \"w\", encoding=\"utf-8\") as fichier_sortie:\n",
    "    for line in y_eval_prob:\n",
    "\n",
    "        prediction = \"N\" if line == 0 else \"P\"\n",
    "        # Écrire la prédiction dans le fichier de sortie\n",
    "        fichier_sortie.write(prediction + \"\\n\")"
   ]
  },
  {
   "cell_type": "code",
   "execution_count": 99,
   "metadata": {},
   "outputs": [],
   "source": [
    "fichier = open(\"./eval_predictions.txt\", \"r\", encoding=\"utf-8\")\n",
    "contenu = fichier.read()\n",
    "fichier.close()\n",
    "TEST = contenu.split(\"\\n\")"
   ]
  },
  {
   "cell_type": "code",
   "execution_count": 100,
   "metadata": {},
   "outputs": [
    {
     "data": {
      "text/plain": [
       "25001"
      ]
     },
     "execution_count": 100,
     "metadata": {},
     "output_type": "execute_result"
    }
   ],
   "source": [
    "len(eval_lines)"
   ]
  }
 ],
 "metadata": {
  "kernelspec": {
   "display_name": "Python 3",
   "language": "python",
   "name": "python3"
  },
  "language_info": {
   "codemirror_mode": {
    "name": "ipython",
    "version": 3
   },
   "file_extension": ".py",
   "mimetype": "text/x-python",
   "name": "python",
   "nbconvert_exporter": "python",
   "pygments_lexer": "ipython3",
   "version": "3.11.8"
  }
 },
 "nbformat": 4,
 "nbformat_minor": 2
}
