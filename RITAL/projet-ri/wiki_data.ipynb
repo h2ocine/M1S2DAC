{
 "cells": [
  {
   "cell_type": "code",
   "execution_count": 9,
   "metadata": {},
   "outputs": [],
   "source": [
    "import datasets\n",
    "import wikipediaapi\n",
    "import pandas as pd"
   ]
  },
  {
   "cell_type": "code",
   "execution_count": 23,
   "metadata": {},
   "outputs": [],
   "source": [
    "wikiqa_data = datasets.load_from_disk(\"wikiqa\")\n",
    "wikiqa_data_train = wikiqa_data[\"train\"]\n",
    "wikiqa_data_train = wikiqa_data[\"test\"]\n",
    "wikiqa_data_train = wikiqa_data[\"validation\"] \n"
   ]
  },
  {
   "cell_type": "code",
   "execution_count": 5,
   "metadata": {},
   "outputs": [
    {
     "data": {
      "text/plain": [
       "'Glacier cave'"
      ]
     },
     "execution_count": 5,
     "metadata": {},
     "output_type": "execute_result"
    }
   ],
   "source": [
    "# Réduire la classe majoritaire et suréchantillonner la classe minoritaire\n",
    "def reduce_and_balance_classes(df):\n",
    "    df_majority = df[df.label == 0]\n",
    "    df_minority = df[df.label == 1]\n",
    "    \n",
    "    # Réduire la classe majoritaire de 75 %\n",
    "    df_majority_reduced = resample(df_majority, \n",
    "                                   replace=False,    # échantillonner sans remplacement\n",
    "                                   n_samples=int(len(df_majority) * 0.25),  # 25 % de la classe majoritaire\n",
    "                                   random_state=123) # pour la reproductibilité\n",
    "    \n",
    "    # Suréchantillonner la classe minoritaire pour correspondre à la taille de la classe majoritaire réduite\n",
    "    df_minority_upsampled = resample(df_minority, \n",
    "                                     replace=True,     # échantillonner avec remplacement\n",
    "                                     n_samples=len(df_majority_reduced),    # pour faire correspondre la classe majoritaire réduite\n",
    "                                     random_state=123) # pour la reproductibilité\n",
    "    \n",
    "    return pd.concat([df_majority_reduced, df_minority_upsampled])\n",
    "\n",
    "balanced_train_df = reduce_and_balance_classes(train_df)\n",
    "balanced_validation_df = reduce_and_balance_classes(validation_df)\n",
    "balanced_test_df = reduce_and_balance_classes(test_df)"
   ]
  },
  {
   "cell_type": "code",
   "execution_count": 17,
   "metadata": {},
   "outputs": [
    {
     "name": "stdout",
     "output_type": "stream",
     "text": [
      "0    A glacier cave is a cave formed within the ice...\n",
      "1    A glacier cave is a cave formed within the ice...\n",
      "2    A glacier cave is a cave formed within the ice...\n",
      "3    A glacier cave is a cave formed within the ice...\n",
      "4    A glacier cave is a cave formed within the ice...\n",
      "Name: document_title, dtype: object\n"
     ]
    }
   ],
   "source": [
    "# Initialiser l'API Wikipedia\n",
    "\n",
    "user_agent = \"WikiQAResearchBot/1.0 \"\n",
    "wiki_wiki = wikipediaapi.Wikipedia('en', headers={'User-Agent': user_agent})\n",
    "\n",
    "def get_wikipedia_context(title):\n",
    "    page = wiki_wiki.page(title)\n",
    "    if page.exists():\n",
    "        return page.summary\n",
    "    else:\n",
    "        return None\n",
    "\n",
    "# Ajouter une colonne 'context' avec le contexte de chaque document_title\n",
    "df = pd.DataFrame(wikiqa_data_train[0:5])\n",
    "test = df[\"document_title\"].apply(get_wikipedia_context)\n",
    "\n",
    "# Afficher le dataframe mis à jour\n",
    "print(test)"
   ]
  },
  {
   "cell_type": "code",
   "execution_count": null,
   "metadata": {},
   "outputs": [],
   "source": []
  },
  {
   "cell_type": "code",
   "execution_count": 24,
   "metadata": {},
   "outputs": [
    {
     "name": "stderr",
     "output_type": "stream",
     "text": [
      "Fetching Wikipedia summaries: 100%|██████████| 2811/2811 [02:29<00:00, 18.81it/s]\n",
      "Map: 100%|██████████| 6165/6165 [00:00<00:00, 11239.58 examples/s]\n",
      "Map: 100%|██████████| 2733/2733 [00:00<00:00, 23007.10 examples/s]\n",
      "Map: 100%|██████████| 20360/20360 [00:00<00:00, 25699.63 examples/s]\n"
     ]
    },
    {
     "name": "stdout",
     "output_type": "stream",
     "text": [
      "=== TEST ===\n",
      "     question_id                                         question  \\\n",
      "0             Q0  HOW AFRICAN AMERICANS WERE IMMIGRATED TO THE US   \n",
      "1             Q0  HOW AFRICAN AMERICANS WERE IMMIGRATED TO THE US   \n",
      "2             Q0  HOW AFRICAN AMERICANS WERE IMMIGRATED TO THE US   \n",
      "3             Q0  HOW AFRICAN AMERICANS WERE IMMIGRATED TO THE US   \n",
      "4             Q0  HOW AFRICAN AMERICANS WERE IMMIGRATED TO THE US   \n",
      "...          ...                                              ...   \n",
      "6160       Q3045                            what is an open mare?   \n",
      "6161       Q3045                            what is an open mare?   \n",
      "6162       Q3045                            what is an open mare?   \n",
      "6163       Q3045                            what is an open mare?   \n",
      "6164       Q3045                            what is an open mare?   \n",
      "\n",
      "                                document_title  \\\n",
      "0     African immigration to the United States   \n",
      "1     African immigration to the United States   \n",
      "2     African immigration to the United States   \n",
      "3     African immigration to the United States   \n",
      "4     African immigration to the United States   \n",
      "...                                        ...   \n",
      "6160                                      Mare   \n",
      "6161                                      Mare   \n",
      "6162                                      Mare   \n",
      "6163                                      Mare   \n",
      "6164                                      Mare   \n",
      "\n",
      "                                                 answer  label  \\\n",
      "0     African immigration to the United States refer...      0   \n",
      "1     The term African in the scope of this article ...      0   \n",
      "2     From the Immigration and Nationality Act of 19...      0   \n",
      "3     African immigrants in the United States come f...      0   \n",
      "4     They include people from different national, l...      0   \n",
      "...                                                 ...    ...   \n",
      "6160  The word can also be used for other female equ...      0   \n",
      "6161           A broodmare is a mare used for breeding.      0   \n",
      "6162       A horse's female parent is known as its dam.      0   \n",
      "6163  An adult male horse is called a stallion , or,...      0   \n",
      "6164  Occasionally the term \"horse\" is used in a res...      0   \n",
      "\n",
      "                                                context  \n",
      "0     African immigration to the United States refer...  \n",
      "1     African immigration to the United States refer...  \n",
      "2     African immigration to the United States refer...  \n",
      "3     African immigration to the United States refer...  \n",
      "4     African immigration to the United States refer...  \n",
      "...                                                 ...  \n",
      "6160  A mare is an adult female horse or other equin...  \n",
      "6161  A mare is an adult female horse or other equin...  \n",
      "6162  A mare is an adult female horse or other equin...  \n",
      "6163  A mare is an adult female horse or other equin...  \n",
      "6164  A mare is an adult female horse or other equin...  \n",
      "\n",
      "[6165 rows x 6 columns]\n",
      "=== VALIDATION ===\n",
      "     question_id                                     question  \\\n",
      "0             Q8  How are epithelial tissues joined together?   \n",
      "1             Q8  How are epithelial tissues joined together?   \n",
      "2             Q8  How are epithelial tissues joined together?   \n",
      "3             Q8  How are epithelial tissues joined together?   \n",
      "4             Q8  How are epithelial tissues joined together?   \n",
      "...          ...                                          ...   \n",
      "2728       Q3018                 What is St. Lucia Known for?   \n",
      "2729       Q3018                 What is St. Lucia Known for?   \n",
      "2730       Q3018                 What is St. Lucia Known for?   \n",
      "2731       Q3018                 What is St. Lucia Known for?   \n",
      "2732       Q3018                 What is St. Lucia Known for?   \n",
      "\n",
      "        document_title                                             answer  \\\n",
      "0     Tissue (biology)  Cross section of sclerenchyma fibers in plant ...   \n",
      "1     Tissue (biology)  Microscopic view of a histologic specimen of h...   \n",
      "2     Tissue (biology)  In Biology , Tissue is a cellular organization...   \n",
      "3     Tissue (biology)  A tissue is an ensemble of similar cells from ...   \n",
      "4     Tissue (biology)  Organs are then formed by the functional group...   \n",
      "...                ...                                                ...   \n",
      "2728       Saint Lucia  Representative government came about in 1924 (...   \n",
      "2729       Saint Lucia  From 1958 to 1962, the island was a member of ...   \n",
      "2730       Saint Lucia  On 22 February 1979, Saint Lucia became an ind...   \n",
      "2731       Saint Lucia  The island nation celebrates this every year w...   \n",
      "2732       Saint Lucia           It is also a member of la Francophonie .   \n",
      "\n",
      "      label                                            context  \n",
      "0         0  In biology, tissue is an assembly of similar c...  \n",
      "1         0  In biology, tissue is an assembly of similar c...  \n",
      "2         0  In biology, tissue is an assembly of similar c...  \n",
      "3         0  In biology, tissue is an assembly of similar c...  \n",
      "4         0  In biology, tissue is an assembly of similar c...  \n",
      "...     ...                                                ...  \n",
      "2728      0  Saint Lucia is an island country of the West I...  \n",
      "2729      0  Saint Lucia is an island country of the West I...  \n",
      "2730      0  Saint Lucia is an island country of the West I...  \n",
      "2731      0  Saint Lucia is an island country of the West I...  \n",
      "2732      0  Saint Lucia is an island country of the West I...  \n",
      "\n",
      "[2733 rows x 6 columns]\n",
      "=== TRAIN ===\n",
      "      question_id                             question  \\\n",
      "0              Q1        how are glacier caves formed?   \n",
      "1              Q1        how are glacier caves formed?   \n",
      "2              Q1        how are glacier caves formed?   \n",
      "3              Q1        how are glacier caves formed?   \n",
      "4              Q1        how are glacier caves formed?   \n",
      "...           ...                                  ...   \n",
      "20355       Q3043        what is section eight housing   \n",
      "20356       Q3043        what is section eight housing   \n",
      "20357       Q3044  what is the main type of restaurant   \n",
      "20358       Q3046     what is us dollar worth based on   \n",
      "20359       Q3046     what is us dollar worth based on   \n",
      "\n",
      "                            document_title  \\\n",
      "0                             Glacier cave   \n",
      "1                             Glacier cave   \n",
      "2                             Glacier cave   \n",
      "3                             Glacier cave   \n",
      "4                             Glacier cave   \n",
      "...                                    ...   \n",
      "20355                  Section 8 (housing)   \n",
      "20356                  Section 8 (housing)   \n",
      "20357        Category:Types of restaurants   \n",
      "20358  History of the United States dollar   \n",
      "20359  History of the United States dollar   \n",
      "\n",
      "                                                  answer  label  \\\n",
      "0      A partly submerged glacier cave on Perito More...      0   \n",
      "1              The ice facade is approximately 60 m high      0   \n",
      "2              Ice formations in the Titlis glacier cave      0   \n",
      "3      A glacier cave is a cave formed within the ice...      1   \n",
      "4      Glacier caves are often called ice caves , but...      0   \n",
      "...                                                  ...    ...   \n",
      "20355  A tenant who leaves a subsidized project will ...      0   \n",
      "20356  The United States Department of Housing and Ur...      0   \n",
      "20357  Restaurants categorized by type and informatio...      0   \n",
      "20358        U.S. Federal Reserve notes in the mid-1990s      0   \n",
      "20359  The history of the United States dollar covers...      0   \n",
      "\n",
      "                                                 context  \n",
      "0      A glacier cave is a cave formed within the ice...  \n",
      "1      A glacier cave is a cave formed within the ice...  \n",
      "2      A glacier cave is a cave formed within the ice...  \n",
      "3      A glacier cave is a cave formed within the ice...  \n",
      "4      A glacier cave is a cave formed within the ice...  \n",
      "...                                                  ...  \n",
      "20355  Section 8 of the Housing Act of 1937 (42 U.S.C...  \n",
      "20356  Section 8 of the Housing Act of 1937 (42 U.S.C...  \n",
      "20357                                                     \n",
      "20358  The history of the United States dollar began ...  \n",
      "20359  The history of the United States dollar began ...  \n",
      "\n",
      "[20360 rows x 6 columns]\n"
     ]
    }
   ],
   "source": [
    "import pandas as pd\n",
    "import wikipediaapi\n",
    "from datasets import DatasetDict, Dataset\n",
    "from concurrent.futures import ThreadPoolExecutor, as_completed\n",
    "from tqdm import tqdm\n",
    "\n",
    "# Initialiser l'API Wikipedia avec un agent utilisateur\n",
    "user_agent = \"WikiQAResearchBot/1.0\"\n",
    "wiki_wiki = wikipediaapi.Wikipedia('en', headers={'User-Agent': user_agent})\n",
    "\n",
    "def get_wikipedia_context(title):\n",
    "    page = wiki_wiki.page(title)\n",
    "    if page.exists():\n",
    "        return page.summary\n",
    "    else:\n",
    "        return None\n",
    "\n",
    "def fetch_wikipedia_summaries(titles):\n",
    "    context_dict = {}\n",
    "    with ThreadPoolExecutor(max_workers=10) as executor:\n",
    "        future_to_title = {executor.submit(get_wikipedia_context, title): title for title in titles}\n",
    "        for future in tqdm(as_completed(future_to_title), total=len(titles), desc=\"Fetching Wikipedia summaries\"):\n",
    "            title = future_to_title[future]\n",
    "            try:\n",
    "                context_dict[title] = future.result()\n",
    "            except Exception as exc:\n",
    "                print(f\"{title} generated an exception: {exc}\")\n",
    "                context_dict[title] = None\n",
    "    return context_dict\n",
    "\n",
    "def add_context_column(dataset_dict):\n",
    "    # Récupérer tous les titres de documents uniques\n",
    "    all_titles = set()\n",
    "    for subset in dataset_dict.values():\n",
    "        all_titles.update(subset['document_title'])\n",
    "\n",
    "    # Faire une requête pour chaque titre unique\n",
    "    context_dict = fetch_wikipedia_summaries(all_titles)\n",
    "\n",
    "    # Ajouter la colonne 'context' à chaque subset du dataset\n",
    "    for key in dataset_dict.keys():\n",
    "        dataset_dict[key] = dataset_dict[key].map(lambda example: {'context': context_dict[example['document_title']]})\n",
    "    \n",
    "    return dataset_dict\n",
    "\n",
    "# Ajouter la colonne context à chaque subset du dataset\n",
    "dataset = add_context_column(wikiqa_data)\n",
    "\n",
    "# Afficher les résultats pour vérification\n",
    "for split in dataset.keys():\n",
    "    print(f\"=== {split.upper()} ===\")\n",
    "    print(dataset[split].to_pandas())\n"
   ]
  },
  {
   "cell_type": "code",
   "execution_count": 32,
   "metadata": {},
   "outputs": [
    {
     "name": "stderr",
     "output_type": "stream",
     "text": [
      "Saving the dataset (1/1 shards): 100%|██████████| 6165/6165 [00:00<00:00, 680667.67 examples/s]\n",
      "Saving the dataset (1/1 shards): 100%|██████████| 2733/2733 [00:00<00:00, 286905.76 examples/s]\n",
      "Saving the dataset (1/1 shards): 100%|██████████| 20360/20360 [00:00<00:00, 813078.70 examples/s]\n"
     ]
    }
   ],
   "source": [
    "dataset.save_to_disk('wikiqa_context')"
   ]
  },
  {
   "cell_type": "code",
   "execution_count": 33,
   "metadata": {},
   "outputs": [],
   "source": [
    "new_df = datasets.load_from_disk(\"wikiqa_context\")"
   ]
  },
  {
   "cell_type": "code",
   "execution_count": 34,
   "metadata": {},
   "outputs": [
    {
     "data": {
      "text/plain": [
       "DatasetDict({\n",
       "    test: Dataset({\n",
       "        features: ['question_id', 'question', 'document_title', 'answer', 'label', 'context'],\n",
       "        num_rows: 6165\n",
       "    })\n",
       "    validation: Dataset({\n",
       "        features: ['question_id', 'question', 'document_title', 'answer', 'label', 'context'],\n",
       "        num_rows: 2733\n",
       "    })\n",
       "    train: Dataset({\n",
       "        features: ['question_id', 'question', 'document_title', 'answer', 'label', 'context'],\n",
       "        num_rows: 20360\n",
       "    })\n",
       "})"
      ]
     },
     "execution_count": 34,
     "metadata": {},
     "output_type": "execute_result"
    }
   ],
   "source": [
    "new_df"
   ]
  }
 ],
 "metadata": {
  "kernelspec": {
   "display_name": "Python 3",
   "language": "python",
   "name": "python3"
  },
  "language_info": {
   "codemirror_mode": {
    "name": "ipython",
    "version": 3
   },
   "file_extension": ".py",
   "mimetype": "text/x-python",
   "name": "python",
   "nbconvert_exporter": "python",
   "pygments_lexer": "ipython3",
   "version": "3.11.9"
  }
 },
 "nbformat": 4,
 "nbformat_minor": 2
}
