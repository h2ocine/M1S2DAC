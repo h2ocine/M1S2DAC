{
 "cells": [
  {
   "cell_type": "markdown",
   "metadata": {},
   "source": [
    "# PROJET RI TESTS"
   ]
  },
  {
   "cell_type": "code",
   "execution_count": 1,
   "metadata": {},
   "outputs": [
    {
     "name": "stderr",
     "output_type": "stream",
     "text": [
      "/home/neyroy/.local/lib/python3.10/site-packages/tqdm/auto.py:21: TqdmWarning: IProgress not found. Please update jupyter and ipywidgets. See https://ipywidgets.readthedocs.io/en/stable/user_install.html\n",
      "  from .autonotebook import tqdm as notebook_tqdm\n",
      "[nltk_data] Downloading package wordnet to /home/neyroy/nltk_data...\n",
      "[nltk_data]   Package wordnet is already up-to-date!\n",
      "[nltk_data] Downloading package stopwords to /home/neyroy/nltk_data...\n",
      "[nltk_data]   Package stopwords is already up-to-date!\n"
     ]
    }
   ],
   "source": [
    "import datasets\n",
    "import utils"
   ]
  },
  {
   "cell_type": "markdown",
   "metadata": {},
   "source": [
    "## DATA"
   ]
  },
  {
   "cell_type": "code",
   "execution_count": 9,
   "metadata": {},
   "outputs": [],
   "source": [
    "#T elechargement et sauvegarde des datasets \n",
    "\n",
    "# from datasets import load_dataset \n",
    "# wikiqa = load_dataset(\"wiki_qa\")\n",
    "# wikiqa.save_to_disk(\"wikiqa\")"
   ]
  },
  {
   "cell_type": "code",
   "execution_count": 2,
   "metadata": {},
   "outputs": [],
   "source": [
    "#Load le dataset ( enregistré en format pyarrow ./wikiqa )\n",
    "wikiqa_data = datasets.load_from_disk(\"wikiqa\")"
   ]
  },
  {
   "cell_type": "code",
   "execution_count": 7,
   "metadata": {},
   "outputs": [
    {
     "name": "stdout",
     "output_type": "stream",
     "text": [
      "DatasetDict({\n",
      "    test: Dataset({\n",
      "        features: ['question_id', 'question', 'document_title', 'answer', 'label'],\n",
      "        num_rows: 6165\n",
      "    })\n",
      "    validation: Dataset({\n",
      "        features: ['question_id', 'question', 'document_title', 'answer', 'label'],\n",
      "        num_rows: 2733\n",
      "    })\n",
      "    train: Dataset({\n",
      "        features: ['question_id', 'question', 'document_title', 'answer', 'label'],\n",
      "        num_rows: 20360\n",
      "    })\n",
      "})\n",
      "Dataset({\n",
      "    features: ['question_id', 'question', 'document_title', 'answer', 'label'],\n",
      "    num_rows: 20360\n",
      "})\n"
     ]
    }
   ],
   "source": [
    "print(wikiqa_data)\n",
    "print(wikiqa_data[\"train\"])"
   ]
  },
  {
   "cell_type": "code",
   "execution_count": 3,
   "metadata": {},
   "outputs": [],
   "source": [
    "wikiqa_data_train = wikiqa_data[\"train\"]    \n",
    "questions = wikiqa_data_train[\"question\"]   #questions\n",
    "answers = wikiqa_data_train[\"answer\"]       #answers\n",
    "labels = wikiqa_data_train[\"label\"]         #labels (pertinent non pertinent)\n",
    "\n",
    "#Preprocessing ( see utils.preprocess )\n",
    "questions = [utils.preprocess(txt) for txt in questions]\n",
    "answers = [utils.preprocess(txt) for txt in answers]"
   ]
  },
  {
   "cell_type": "code",
   "execution_count": 4,
   "metadata": {},
   "outputs": [],
   "source": [
    "#Length Number of terms in the sentence\n",
    "def length(answer):\n",
    "    return len(answer.split())\n",
    "\n",
    "# ExactMatch Whether query is a substring\n",
    "def check_exact_match(query, text):\n",
    "    if query.lower() in text.lower():\n",
    "        return 1  # Exact match found\n",
    "    else:\n",
    "        return 0  # No exact match found\n",
    "    \n",
    "#Overlap Fraction of query terms covered\n",
    "def calculate_overlap_fraction(qrep, rep):\n",
    "    overlap_fractions = []\n",
    "    \n",
    "    for qtext in qrep:\n",
    "        qterms = set(qtext.lower().split())\n",
    "        for text in rep:\n",
    "            text = text.lower()\n",
    "            tterms = set(text.split())\n",
    "            overlap = len(qterms.intersection(tterms))\n",
    "            fraction = overlap / len(qterms) if len(qterms) > 0 else 0\n",
    "            overlap_fractions.append(fraction)\n",
    "    \n",
    "    return overlap_fractions"
   ]
  },
  {
   "cell_type": "code",
   "execution_count": 27,
   "metadata": {},
   "outputs": [
    {
     "name": "stdout",
     "output_type": "stream",
     "text": [
      "[0.5, 0.0]\n"
     ]
    }
   ],
   "source": [
    "# test de la feature overlap\n",
    "qrep = [\"apples banana\"]\n",
    "rep = [\"I like apples and bananas.\", \"I prefer oranges.\"]\n",
    "\n",
    "# Calculate overlap fraction feature for the sample data using the adapted function\n",
    "overlap_fraction_features = list(calculate_overlap_fraction(qrep, rep))\n",
    "\n",
    "print(overlap_fraction_features)"
   ]
  },
  {
   "cell_type": "code",
   "execution_count": 5,
   "metadata": {},
   "outputs": [
    {
     "name": "stderr",
     "output_type": "stream",
     "text": [
      "[nltk_data] Downloading package wordnet to /home/neyroy/nltk_data...\n",
      "[nltk_data]   Package wordnet is already up-to-date!\n",
      "[nltk_data] Downloading package stopwords to /home/neyroy/nltk_data...\n",
      "[nltk_data]   Package stopwords is already up-to-date!\n"
     ]
    },
    {
     "name": "stdout",
     "output_type": "stream",
     "text": [
      "[0.16666666666666666, 0.16666666666666666]\n",
      "{'sorry', 'pitiful', 'lamentable', 'sad', 'deplorable', 'distressing'}\n"
     ]
    }
   ],
   "source": [
    "from nltk.corpus import wordnet\n",
    "from nltk.tokenize import word_tokenize\n",
    "from nltk.corpus import stopwords\n",
    "import string\n",
    "import nltk\n",
    "\n",
    "nltk.download('wordnet')\n",
    "nltk.download('stopwords')\n",
    "\n",
    "\n",
    "# Overlap avec synonym : \n",
    "\n",
    "def get_synonyms(word):\n",
    "    \"\"\"\n",
    "    get synonyms of a word\n",
    "    \"\"\"\n",
    "    synonyms = set()\n",
    "    for syn in wordnet.synsets(word):\n",
    "        for lemma in syn.lemmas():\n",
    "            synonyms.add(lemma.name())\n",
    "    return synonyms\n",
    "\n",
    "def tokenize_text(text):\n",
    "    \"\"\" \n",
    "    Tokenize the text \n",
    "    \"\"\"\n",
    "    #stop_words = set(stopwords.words('english'))\n",
    "    text = text.lower()\n",
    "    text = text.translate(str.maketrans('', '', string.punctuation))\n",
    "    tokens = word_tokenize(text)\n",
    "    #tokens = [token for token in tokens if token not in stop_words]\n",
    "    return tokens\n",
    "\n",
    "def overlap_syn_fraction(qrep, rep):\n",
    "    \"\"\"\n",
    "    This function calculates the overlap synonym fraction between a query and a set of answers by finding synonyms of words in the query\n",
    "    and comparing them with the synonyms of words in each answer.\n",
    "\n",
    "    qrep : questions - list of String\n",
    "    rep : answers - list of String\n",
    "\"\"\"\n",
    "    q_synonyms = {word: utils.get_synonyms(word) for word in utils.tokenize_text(qrep)}\n",
    "    q_synonyms_lens = {word: len(synonyms) for word, synonyms in q_synonyms.items()}\n",
    "    for text in rep:\n",
    "        text_tokens = utils.tokenize_text(text)\n",
    "        t_synonyms = set()\n",
    "        for token in text_tokens:\n",
    "            t_synonyms.update(utils.get_synonyms(token))\n",
    "        overlap = sum(1 for syn in q_synonyms if syn in t_synonyms)\n",
    "        fraction = overlap / sum(q_synonyms_lens.values()) if sum(q_synonyms_lens.values()) > 0 else 0\n",
    "        yield fraction\n",
    "\n",
    "# Sample data\n",
    "qrep = \"sad\"\n",
    "rep = [\"I am feeling deplorable today.\", \"She seems pitiful and sorry.\"]\n",
    "\n",
    "# Calculate overlap synonym fraction feature for the sample data using the function\n",
    "overlap_syn_fraction_features = list(overlap_syn_fraction(qrep, rep))\n",
    "\n",
    "print(overlap_syn_fraction_features)\n",
    "\n",
    "print(get_synonyms('sad'))"
   ]
  },
  {
   "cell_type": "code",
   "execution_count": 28,
   "metadata": {},
   "outputs": [
    {
     "name": "stdout",
     "output_type": "stream",
     "text": [
      "BM25 score: 0.0\n"
     ]
    }
   ],
   "source": [
    "from rank_bm25 import BM25Okapi\n",
    "\n",
    "def calculate_bm25_score(query, document):\n",
    "    tokenized_query = query.lower().split()\n",
    "    tokenized_document = document.lower().split()\n",
    "    \n",
    "    corpus = [tokenized_document]\n",
    "    bm25 = BM25Okapi(corpus)\n",
    "    \n",
    "    #average_idf = sum(map(lambda k: float(bm25.idf[k]), bm25.idf.keys())) / len(bm25.idf.keys())\n",
    "    \n",
    "    score = bm25.get_scores(tokenized_query)\n",
    "    \n",
    "    # # Sort the answers based on BM25 scores in descending order\n",
    "    # sorted_indices = sorted(range(len(bm25_scores)), key=lambda i: bm25_scores[i], reverse=True)\n",
    "    # sorted_answers = [corpus[i] for i in sorted_indices]\n",
    "    return score[0]  # Aif only one document in the corpus\n",
    "\n",
    "# Sample data\n",
    "query = \"i like apples and bananas\"\n",
    "document = \"I like apples and bananas.\"\n",
    "\n",
    "# Calculate BM25 score for the sample query and document\n",
    "bm25_score = calculate_bm25_score(query, document)\n",
    "\n",
    "print(\"BM25 score:\", bm25_score)"
   ]
  },
  {
   "cell_type": "code",
   "execution_count": 8,
   "metadata": {},
   "outputs": [
    {
     "name": "stderr",
     "output_type": "stream",
     "text": [
      "[nltk_data] Downloading package gutenberg to /home/neyroy/nltk_data...\n",
      "[nltk_data]   Package gutenberg is already up-to-date!\n"
     ]
    },
    {
     "ename": "ValueError",
     "evalue": "Cannot fit without a vocabulary or text to create it from.",
     "output_type": "error",
     "traceback": [
      "\u001b[0;31m---------------------------------------------------------------------------\u001b[0m",
      "\u001b[0;31mValueError\u001b[0m                                Traceback (most recent call last)",
      "Cell \u001b[0;32mIn[8], line 14\u001b[0m\n\u001b[1;32m     12\u001b[0m train_data \u001b[38;5;241m=\u001b[39m [\u001b[38;5;28mlist\u001b[39m(ngrams(pad_both_ends(tokens, n\u001b[38;5;241m=\u001b[39m\u001b[38;5;241m1\u001b[39m), n\u001b[38;5;241m=\u001b[39m\u001b[38;5;241m1\u001b[39m)) \u001b[38;5;28;01mfor\u001b[39;00m n \u001b[38;5;129;01min\u001b[39;00m \u001b[38;5;28mrange\u001b[39m(\u001b[38;5;241m1\u001b[39m, \u001b[38;5;241m2\u001b[39m)]\n\u001b[1;32m     13\u001b[0m lm \u001b[38;5;241m=\u001b[39m Laplace(\u001b[38;5;241m1\u001b[39m)  \u001b[38;5;66;03m# Laplace smoothing with n=1\u001b[39;00m\n\u001b[0;32m---> 14\u001b[0m \u001b[43mlm\u001b[49m\u001b[38;5;241;43m.\u001b[39;49m\u001b[43mfit\u001b[49m\u001b[43m(\u001b[49m\u001b[43mtrain_data\u001b[49m\u001b[43m)\u001b[49m\n\u001b[1;32m     16\u001b[0m \u001b[38;5;28;01mdef\u001b[39;00m \u001b[38;5;21mcalculate_lm_score\u001b[39m(text):\n\u001b[1;32m     17\u001b[0m     test_data \u001b[38;5;241m=\u001b[39m \u001b[38;5;28mlist\u001b[39m(ngrams(pad_both_ends(text\u001b[38;5;241m.\u001b[39msplit(), n\u001b[38;5;241m=\u001b[39m\u001b[38;5;241m1\u001b[39m), \u001b[38;5;241m1\u001b[39m))\n",
      "File \u001b[0;32m~/.local/lib/python3.10/site-packages/nltk/lm/api.py:112\u001b[0m, in \u001b[0;36mLanguageModel.fit\u001b[0;34m(self, text, vocabulary_text)\u001b[0m\n\u001b[1;32m    110\u001b[0m \u001b[38;5;28;01mif\u001b[39;00m \u001b[38;5;129;01mnot\u001b[39;00m \u001b[38;5;28mself\u001b[39m\u001b[38;5;241m.\u001b[39mvocab:\n\u001b[1;32m    111\u001b[0m     \u001b[38;5;28;01mif\u001b[39;00m vocabulary_text \u001b[38;5;129;01mis\u001b[39;00m \u001b[38;5;28;01mNone\u001b[39;00m:\n\u001b[0;32m--> 112\u001b[0m         \u001b[38;5;28;01mraise\u001b[39;00m \u001b[38;5;167;01mValueError\u001b[39;00m(\n\u001b[1;32m    113\u001b[0m             \u001b[38;5;124m\"\u001b[39m\u001b[38;5;124mCannot fit without a vocabulary or text to create it from.\u001b[39m\u001b[38;5;124m\"\u001b[39m\n\u001b[1;32m    114\u001b[0m         )\n\u001b[1;32m    115\u001b[0m     \u001b[38;5;28mself\u001b[39m\u001b[38;5;241m.\u001b[39mvocab\u001b[38;5;241m.\u001b[39mupdate(vocabulary_text)\n\u001b[1;32m    116\u001b[0m \u001b[38;5;28mself\u001b[39m\u001b[38;5;241m.\u001b[39mcounts\u001b[38;5;241m.\u001b[39mupdate(\u001b[38;5;28mself\u001b[39m\u001b[38;5;241m.\u001b[39mvocab\u001b[38;5;241m.\u001b[39mlookup(sent) \u001b[38;5;28;01mfor\u001b[39;00m sent \u001b[38;5;129;01min\u001b[39;00m text)\n",
      "\u001b[0;31mValueError\u001b[0m: Cannot fit without a vocabulary or text to create it from."
     ]
    }
   ],
   "source": [
    "import nltk\n",
    "from nltk.util import ngrams\n",
    "from nltk.lm import Laplace\n",
    "from nltk.lm.preprocessing import pad_both_ends\n",
    "\n",
    "nltk.download('gutenberg')\n",
    "from nltk.corpus import gutenberg\n",
    "\n",
    "# Train a unigram language model using Gutenberg corpus\n",
    "text = gutenberg.raw('shakespeare-hamlet.txt')\n",
    "tokens = text.split()\n",
    "train_data = [list(ngrams(pad_both_ends(tokens, n=1), n=1)) for n in range(1, 2)]\n",
    "lm = Laplace(1)  # Laplace smoothing with n=1\n",
    "lm.fit(train_data)\n",
    "\n",
    "def calculate_lm_score(text):\n",
    "    test_data = list(ngrams(pad_both_ends(text.split(), n=1), 1))\n",
    "    score = lm.perplexity(test_data)\n",
    "    return score\n",
    "\n",
    "# Sample data\n",
    "text1 = \"To be or not to be\"\n",
    "text2 = \"To sleep, perchance to dream\"\n",
    "\n",
    "# Calculate LM score for the sample data\n",
    "lm_score1 = calculate_lm_score(text1)\n",
    "lm_score2 = calculate_lm_score(text2)\n",
    "\n",
    "print(\"LM score for text1:\", lm_score1)\n",
    "print(\"LM score for text2:\", lm_score2)"
   ]
  }
 ],
 "metadata": {
  "kernelspec": {
   "display_name": "Python 3",
   "language": "python",
   "name": "python3"
  },
  "language_info": {
   "codemirror_mode": {
    "name": "ipython",
    "version": 3
   },
   "file_extension": ".py",
   "mimetype": "text/x-python",
   "name": "python",
   "nbconvert_exporter": "python",
   "pygments_lexer": "ipython3",
   "version": "3.10.12"
  }
 },
 "nbformat": 4,
 "nbformat_minor": 2
}
