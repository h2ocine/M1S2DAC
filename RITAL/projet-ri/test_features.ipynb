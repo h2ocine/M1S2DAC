{
 "cells": [
  {
   "cell_type": "code",
   "execution_count": 1,
   "metadata": {},
   "outputs": [],
   "source": [
    "%reload_ext autoreload\n",
    "%autoreload 2\n"
   ]
  },
  {
   "cell_type": "markdown",
   "metadata": {},
   "source": [
    "# PROJET RI TESTS"
   ]
  },
  {
   "cell_type": "code",
   "execution_count": 4,
   "metadata": {},
   "outputs": [],
   "source": [
    "import datasets\n",
    "import utils\n",
    "import features\n",
    "\n",
    "from nltk.corpus import wordnet\n",
    "from nltk.tokenize import word_tokenize\n",
    "from nltk.corpus import stopwords\n",
    "import string\n",
    "import nltk\n"
   ]
  },
  {
   "cell_type": "markdown",
   "metadata": {},
   "source": [
    "## DATA"
   ]
  },
  {
   "cell_type": "code",
   "execution_count": null,
   "metadata": {},
   "outputs": [],
   "source": [
    "#T elechargement et sauvegarde des datasets \n",
    "\n",
    "# from datasets import load_dataset \n",
    "# wikiqa = load_dataset(\"wiki_qa\")\n",
    "# wikiqa.save_to_disk(\"wikiqa\")"
   ]
  },
  {
   "cell_type": "code",
   "execution_count": 5,
   "metadata": {},
   "outputs": [],
   "source": [
    "#Load le dataset ( enregistré en format pyarrow ./wikiqa )\n",
    "wikiqa_data = datasets.load_from_disk(\"wikiqa\")"
   ]
  },
  {
   "cell_type": "code",
   "execution_count": 6,
   "metadata": {},
   "outputs": [
    {
     "name": "stdout",
     "output_type": "stream",
     "text": [
      "DatasetDict({\n",
      "    test: Dataset({\n",
      "        features: ['question_id', 'question', 'document_title', 'answer', 'label'],\n",
      "        num_rows: 6165\n",
      "    })\n",
      "    validation: Dataset({\n",
      "        features: ['question_id', 'question', 'document_title', 'answer', 'label'],\n",
      "        num_rows: 2733\n",
      "    })\n",
      "    train: Dataset({\n",
      "        features: ['question_id', 'question', 'document_title', 'answer', 'label'],\n",
      "        num_rows: 20360\n",
      "    })\n",
      "})\n",
      "Dataset({\n",
      "    features: ['question_id', 'question', 'document_title', 'answer', 'label'],\n",
      "    num_rows: 20360\n",
      "})\n"
     ]
    }
   ],
   "source": [
    "print(wikiqa_data)\n",
    "print(wikiqa_data[\"train\"])"
   ]
  },
  {
   "cell_type": "code",
   "execution_count": 7,
   "metadata": {},
   "outputs": [],
   "source": [
    "wikiqa_data_train = wikiqa_data[\"train\"]    \n",
    "questions = wikiqa_data_train[\"question\"]   #questions\n",
    "answers = wikiqa_data_train[\"answer\"]       #answers\n",
    "labels = wikiqa_data_train[\"label\"]         #labels (pertinent non pertinent)\n",
    "\n",
    "#Preprocessing ( see utils.preprocess )\n",
    "questions = [utils.preprocess(txt) for txt in questions]\n",
    "answers = [utils.preprocess(txt) for txt in answers]"
   ]
  },
  {
   "cell_type": "code",
   "execution_count": 9,
   "metadata": {},
   "outputs": [
    {
     "ename": "KeyError",
     "evalue": "52",
     "output_type": "error",
     "traceback": [
      "\u001b[1;31m---------------------------------------------------------------------------\u001b[0m",
      "\u001b[1;31mKeyError\u001b[0m                                  Traceback (most recent call last)",
      "Cell \u001b[1;32mIn[9], line 3\u001b[0m\n\u001b[0;32m      1\u001b[0m \u001b[38;5;66;03m# Example usage\u001b[39;00m\n\u001b[0;32m      2\u001b[0m \u001b[38;5;28;01mfrom\u001b[39;00m \u001b[38;5;21;01mwikipedia2vec\u001b[39;00m \u001b[38;5;28;01mimport\u001b[39;00m Wikipedia2Vec\n\u001b[1;32m----> 3\u001b[0m wiki2vec \u001b[38;5;241m=\u001b[39m \u001b[43mWikipedia2Vec\u001b[49m\u001b[38;5;241;43m.\u001b[39;49m\u001b[43mload\u001b[49m\u001b[43m(\u001b[49m\u001b[38;5;124;43m'\u001b[39;49m\u001b[38;5;124;43m./enwiki_20180420_500d.txt\u001b[39;49m\u001b[38;5;124;43m'\u001b[39;49m\u001b[43m)\u001b[49m\n\u001b[0;32m      4\u001b[0m query \u001b[38;5;241m=\u001b[39m \u001b[38;5;124m\"\u001b[39m\u001b[38;5;124mexample query\u001b[39m\u001b[38;5;124m\"\u001b[39m\n\u001b[0;32m      5\u001b[0m document \u001b[38;5;241m=\u001b[39m \u001b[38;5;124m\"\u001b[39m\u001b[38;5;124mthis is an example document used to demonstrate the Wikipedia2Vec similarity calculation\u001b[39m\u001b[38;5;124m\"\u001b[39m\n",
      "File \u001b[1;32m~\\AppData\\Local\\Packages\\PythonSoftwareFoundation.Python.3.11_qbz5n2kfra8p0\\LocalCache\\local-packages\\Python311\\site-packages\\wikipedia2vec\\wikipedia2vec.py:159\u001b[0m, in \u001b[0;36mwikipedia2vec.wikipedia2vec.Wikipedia2Vec.load\u001b[1;34m()\u001b[0m\n",
      "File \u001b[1;32m~\\AppData\\Local\\Packages\\PythonSoftwareFoundation.Python.3.11_qbz5n2kfra8p0\\LocalCache\\local-packages\\Python311\\site-packages\\joblib\\numpy_pickle.py:658\u001b[0m, in \u001b[0;36mload\u001b[1;34m(filename, mmap_mode)\u001b[0m\n\u001b[0;32m    652\u001b[0m             \u001b[38;5;28;01mif\u001b[39;00m \u001b[38;5;28misinstance\u001b[39m(fobj, \u001b[38;5;28mstr\u001b[39m):\n\u001b[0;32m    653\u001b[0m                 \u001b[38;5;66;03m# if the returned file object is a string, this means we\u001b[39;00m\n\u001b[0;32m    654\u001b[0m                 \u001b[38;5;66;03m# try to load a pickle file generated with an version of\u001b[39;00m\n\u001b[0;32m    655\u001b[0m                 \u001b[38;5;66;03m# Joblib so we load it with joblib compatibility function.\u001b[39;00m\n\u001b[0;32m    656\u001b[0m                 \u001b[38;5;28;01mreturn\u001b[39;00m load_compatibility(fobj)\n\u001b[1;32m--> 658\u001b[0m             obj \u001b[38;5;241m=\u001b[39m \u001b[43m_unpickle\u001b[49m\u001b[43m(\u001b[49m\u001b[43mfobj\u001b[49m\u001b[43m,\u001b[49m\u001b[43m \u001b[49m\u001b[43mfilename\u001b[49m\u001b[43m,\u001b[49m\u001b[43m \u001b[49m\u001b[43mmmap_mode\u001b[49m\u001b[43m)\u001b[49m\n\u001b[0;32m    659\u001b[0m \u001b[38;5;28;01mreturn\u001b[39;00m obj\n",
      "File \u001b[1;32m~\\AppData\\Local\\Packages\\PythonSoftwareFoundation.Python.3.11_qbz5n2kfra8p0\\LocalCache\\local-packages\\Python311\\site-packages\\joblib\\numpy_pickle.py:577\u001b[0m, in \u001b[0;36m_unpickle\u001b[1;34m(fobj, filename, mmap_mode)\u001b[0m\n\u001b[0;32m    575\u001b[0m obj \u001b[38;5;241m=\u001b[39m \u001b[38;5;28;01mNone\u001b[39;00m\n\u001b[0;32m    576\u001b[0m \u001b[38;5;28;01mtry\u001b[39;00m:\n\u001b[1;32m--> 577\u001b[0m     obj \u001b[38;5;241m=\u001b[39m \u001b[43munpickler\u001b[49m\u001b[38;5;241;43m.\u001b[39;49m\u001b[43mload\u001b[49m\u001b[43m(\u001b[49m\u001b[43m)\u001b[49m\n\u001b[0;32m    578\u001b[0m     \u001b[38;5;28;01mif\u001b[39;00m unpickler\u001b[38;5;241m.\u001b[39mcompat_mode:\n\u001b[0;32m    579\u001b[0m         warnings\u001b[38;5;241m.\u001b[39mwarn(\u001b[38;5;124m\"\u001b[39m\u001b[38;5;124mThe file \u001b[39m\u001b[38;5;124m'\u001b[39m\u001b[38;5;132;01m%s\u001b[39;00m\u001b[38;5;124m'\u001b[39m\u001b[38;5;124m has been generated with a \u001b[39m\u001b[38;5;124m\"\u001b[39m\n\u001b[0;32m    580\u001b[0m                       \u001b[38;5;124m\"\u001b[39m\u001b[38;5;124mjoblib version less than 0.10. \u001b[39m\u001b[38;5;124m\"\u001b[39m\n\u001b[0;32m    581\u001b[0m                       \u001b[38;5;124m\"\u001b[39m\u001b[38;5;124mPlease regenerate this pickle file.\u001b[39m\u001b[38;5;124m\"\u001b[39m\n\u001b[0;32m    582\u001b[0m                       \u001b[38;5;241m%\u001b[39m filename,\n\u001b[0;32m    583\u001b[0m                       \u001b[38;5;167;01mDeprecationWarning\u001b[39;00m, stacklevel\u001b[38;5;241m=\u001b[39m\u001b[38;5;241m3\u001b[39m)\n",
      "File \u001b[1;32mC:\\Program Files\\WindowsApps\\PythonSoftwareFoundation.Python.3.11_3.11.2544.0_x64__qbz5n2kfra8p0\\Lib\\pickle.py:1213\u001b[0m, in \u001b[0;36m_Unpickler.load\u001b[1;34m(self)\u001b[0m\n\u001b[0;32m   1211\u001b[0m             \u001b[38;5;28;01mraise\u001b[39;00m \u001b[38;5;167;01mEOFError\u001b[39;00m\n\u001b[0;32m   1212\u001b[0m         \u001b[38;5;28;01massert\u001b[39;00m \u001b[38;5;28misinstance\u001b[39m(key, bytes_types)\n\u001b[1;32m-> 1213\u001b[0m         \u001b[43mdispatch\u001b[49m\u001b[43m[\u001b[49m\u001b[43mkey\u001b[49m\u001b[43m[\u001b[49m\u001b[38;5;241;43m0\u001b[39;49m\u001b[43m]\u001b[49m\u001b[43m]\u001b[49m(\u001b[38;5;28mself\u001b[39m)\n\u001b[0;32m   1214\u001b[0m \u001b[38;5;28;01mexcept\u001b[39;00m _Stop \u001b[38;5;28;01mas\u001b[39;00m stopinst:\n\u001b[0;32m   1215\u001b[0m     \u001b[38;5;28;01mreturn\u001b[39;00m stopinst\u001b[38;5;241m.\u001b[39mvalue\n",
      "\u001b[1;31mKeyError\u001b[0m: 52"
     ]
    }
   ],
   "source": [
    "# Example usage\n",
    "from wikipedia2vec import Wikipedia2Vec\n",
    "wiki2vec = Wikipedia2Vec.load('enwiki_20180420_500d.txt')\n",
    "query = \"example query\"\n",
    "document = \"this is an example document used to demonstrate the Wikipedia2Vec similarity calculation\"\n",
    "print(\"Wikipedia2Vec similarity:\", features.wikipedia2vec_similarity(wiki2vec, query, document))"
   ]
  },
  {
   "cell_type": "markdown",
   "metadata": {},
   "source": [
    "### Overlap fraction between a query and a set of answers"
   ]
  },
  {
   "cell_type": "code",
   "execution_count": 20,
   "metadata": {},
   "outputs": [
    {
     "name": "stderr",
     "output_type": "stream",
     "text": [
      "[autoreload of features failed: Traceback (most recent call last):\n",
      "  File \"C:\\Users\\NeilB\\AppData\\Local\\Packages\\PythonSoftwareFoundation.Python.3.11_qbz5n2kfra8p0\\LocalCache\\local-packages\\Python311\\site-packages\\IPython\\extensions\\autoreload.py\", line 276, in check\n",
      "    superreload(m, reload, self.old_objects)\n",
      "  File \"C:\\Users\\NeilB\\AppData\\Local\\Packages\\PythonSoftwareFoundation.Python.3.11_qbz5n2kfra8p0\\LocalCache\\local-packages\\Python311\\site-packages\\IPython\\extensions\\autoreload.py\", line 475, in superreload\n",
      "    module = reload(module)\n",
      "             ^^^^^^^^^^^^^^\n",
      "  File \"C:\\Program Files\\WindowsApps\\PythonSoftwareFoundation.Python.3.11_3.11.2544.0_x64__qbz5n2kfra8p0\\Lib\\importlib\\__init__.py\", line 169, in reload\n",
      "    _bootstrap._exec(spec, module)\n",
      "  File \"<frozen importlib._bootstrap>\", line 621, in _exec\n",
      "  File \"<frozen importlib._bootstrap_external>\", line 940, in exec_module\n",
      "  File \"<frozen importlib._bootstrap>\", line 241, in _call_with_frames_removed\n",
      "  File \"d:\\études\\pldac\\M1S2DAC\\RITAL\\projet-ri\\features.py\", line 11, in <module>\n",
      "    model = api.load(\"word2vec-google-news-300\")\n",
      "            ^^^^^^^^^^^^^^^^^^^^^^^^^^^^^^^^^^^^\n",
      "  File \"C:\\Users\\NeilB\\AppData\\Local\\Packages\\PythonSoftwareFoundation.Python.3.11_qbz5n2kfra8p0\\LocalCache\\local-packages\\Python311\\site-packages\\gensim\\downloader.py\", line 503, in load\n",
      "    return module.load_data()\n",
      "           ^^^^^^^^^^^^^^^^^^\n",
      "  File \"C:\\Users\\NeilB/gensim-data\\word2vec-google-news-300\\__init__.py\", line 8, in load_data\n",
      "    model = KeyedVectors.load_word2vec_format(path, binary=True)\n",
      "            ^^^^^^^^^^^^^^^^^^^^^^^^^^^^^^^^^^^^^^^^^^^^^^^^^^^^\n",
      "  File \"C:\\Users\\NeilB\\AppData\\Local\\Packages\\PythonSoftwareFoundation.Python.3.11_qbz5n2kfra8p0\\LocalCache\\local-packages\\Python311\\site-packages\\gensim\\models\\keyedvectors.py\", line 1719, in load_word2vec_format\n",
      "    return _load_word2vec_format(\n",
      "           ^^^^^^^^^^^^^^^^^^^^^^\n",
      "KeyboardInterrupt\n",
      "]\n"
     ]
    },
    {
     "ename": "ValueError",
     "evalue": "too many values to unpack (expected 2)",
     "output_type": "error",
     "traceback": [
      "\u001b[1;31m---------------------------------------------------------------------------\u001b[0m",
      "\u001b[1;31mValueError\u001b[0m                                Traceback (most recent call last)",
      "Cell \u001b[1;32mIn[20], line 6\u001b[0m\n\u001b[0;32m      3\u001b[0m rep \u001b[38;5;241m=\u001b[39m [\u001b[38;5;124m\"\u001b[39m\u001b[38;5;124mI like apples and bananas.\u001b[39m\u001b[38;5;124m\"\u001b[39m, \u001b[38;5;124m\"\u001b[39m\u001b[38;5;124mI prefer oranges.\u001b[39m\u001b[38;5;124m\"\u001b[39m]\n\u001b[0;32m      5\u001b[0m \u001b[38;5;66;03m# Calculate overlap fraction feature for the sample data using the adapted function\u001b[39;00m\n\u001b[1;32m----> 6\u001b[0m overlap_fraction_features \u001b[38;5;241m=\u001b[39m \u001b[38;5;28mlist\u001b[39m(\u001b[43mfeatures\u001b[49m\u001b[38;5;241;43m.\u001b[39;49m\u001b[43mcalculate_overlap_fraction\u001b[49m\u001b[43m(\u001b[49m\u001b[43mqrep\u001b[49m\u001b[43m,\u001b[49m\u001b[43m \u001b[49m\u001b[43mrep\u001b[49m\u001b[43m)\u001b[49m)\n\u001b[0;32m      8\u001b[0m \u001b[38;5;28mprint\u001b[39m(overlap_fraction_features)\n",
      "File \u001b[1;32md:\\études\\pldac\\M1S2DAC\\RITAL\\projet-ri\\features.py:30\u001b[0m, in \u001b[0;36mcalculate_overlap_fraction\u001b[1;34m(qrep, rep)\u001b[0m\n\u001b[0;32m     28\u001b[0m \u001b[38;5;28;01mfor\u001b[39;00m qtext \u001b[38;5;129;01min\u001b[39;00m qrep:\n\u001b[0;32m     29\u001b[0m     qterms \u001b[38;5;241m=\u001b[39m \u001b[38;5;28mset\u001b[39m(qtext\u001b[38;5;241m.\u001b[39mlower()\u001b[38;5;241m.\u001b[39msplit())\n\u001b[1;32m---> 30\u001b[0m     \u001b[38;5;28;01mfor\u001b[39;00m _, text \u001b[38;5;129;01min\u001b[39;00m rep:\n\u001b[0;32m     31\u001b[0m         text \u001b[38;5;241m=\u001b[39m text\u001b[38;5;241m.\u001b[39mlower()\n\u001b[0;32m     32\u001b[0m         tterms \u001b[38;5;241m=\u001b[39m \u001b[38;5;28mset\u001b[39m(text\u001b[38;5;241m.\u001b[39msplit())\n",
      "\u001b[1;31mValueError\u001b[0m: too many values to unpack (expected 2)"
     ]
    }
   ],
   "source": [
    "# test de la feature overlap\n",
    "qrep = [\"apples banana\"]\n",
    "rep = [\"I like apples and bananas.\", \"I prefer oranges.\"]\n",
    "\n",
    "# Calculate overlap fraction feature for the sample data using the adapted function\n",
    "overlap_fraction_features = list(features.calculate_overlap_fraction(qrep, rep))\n",
    "\n",
    "print(overlap_fraction_features)"
   ]
  },
  {
   "cell_type": "markdown",
   "metadata": {},
   "source": [
    "### Overlap synonym fraction between a query and a set of answers"
   ]
  },
  {
   "cell_type": "code",
   "execution_count": 43,
   "metadata": {},
   "outputs": [
    {
     "name": "stdout",
     "output_type": "stream",
     "text": [
      "frere\n",
      "len ['sad']\n",
      "len de overlaf 2\n",
      "frr\n",
      "0.5\n",
      "{'sorry', 'lamentable', 'pitiful', 'deplorable', 'distressing', 'sad'}\n"
     ]
    }
   ],
   "source": [
    "# Sample data\n",
    "qrep = \"sad\"\n",
    "rep = \"i'm sad and pitiful\"\n",
    "\n",
    "# Calculate overlap synonym fraction feature for the sample data using the function\n",
    "overlap_syn_fraction_features = features.overlap_syn_fraction(qrep, rep)\n",
    "\n",
    "print(overlap_syn_fraction_features)\n",
    "\n",
    "print(utils.get_synonyms('sad'))"
   ]
  },
  {
   "cell_type": "markdown",
   "metadata": {},
   "source": [
    "### TAGME : fraction of named entities in the query that are also present in the document."
   ]
  },
  {
   "cell_type": "code",
   "execution_count": 60,
   "metadata": {},
   "outputs": [
    {
     "name": "stdout",
     "output_type": "stream",
     "text": [
      "query entitited {'44th', 'the United States', 'Barack Obama'}\n",
      "TAGME overlap: 0.3333333333333333\n"
     ]
    }
   ],
   "source": [
    "query = \"Barack Obama was the 44th President of the United States\"\n",
    "document = \"Obama served as the 44th President\"\n",
    "print(\"TAGME overlap:\", features.tagme_overlap(query, document))"
   ]
  },
  {
   "cell_type": "markdown",
   "metadata": {},
   "source": [
    "### BM25 scores "
   ]
  },
  {
   "cell_type": "code",
   "execution_count": 14,
   "metadata": {},
   "outputs": [
    {
     "name": "stdout",
     "output_type": "stream",
     "text": [
      "BM25 score: 1.5376575235991854\n"
     ]
    }
   ],
   "source": [
    "query = \"query about bananas\"\n",
    "document = \"documentary bla bla bla bananas\"\n",
    "corpus = [\n",
    "    \"documentary bla bla bla bananas\",\n",
    "    \"this document is the second document without apples\",\n",
    "    \"and this is the third one\",\n",
    "    \"is this the first document but ananas are cool\",\n",
    "    \"documentary bla bla bla\"\n",
    "]\n",
    "\n",
    "score = features.bm25_score(query, document, corpus)\n",
    "print(f\"BM25 score: {score}\")\n"
   ]
  },
  {
   "cell_type": "markdown",
   "metadata": {},
   "source": [
    "## WORD2VEC SIMILARITY"
   ]
  },
  {
   "cell_type": "code",
   "execution_count": 16,
   "metadata": {},
   "outputs": [
    {
     "name": "stdout",
     "output_type": "stream",
     "text": [
      "Word2Vec similarity: 0.46693054\n"
     ]
    }
   ],
   "source": [
    "# Exemple d'utilisation\n",
    "query = \"example query\"\n",
    "document = \"this is an example document used to demonstrate word2vec similarity\"\n",
    "print(\"Word2Vec similarity:\", features.word2vec_similarity(query, document))\n"
   ]
  },
  {
   "cell_type": "code",
   "execution_count": null,
   "metadata": {},
   "outputs": [
    {
     "name": "stdout",
     "output_type": "stream",
     "text": [
      "Word2Vec similarity: 1.0000001\n"
     ]
    },
    {
     "name": "stdout",
     "output_type": "stream",
     "text": [
      "Word2Vec similarity: 1.0000001\n"
     ]
    }
   ],
   "source": [
    "query = \"example query\"\n",
    "document = \"query example\"\n",
    "print(\"Word2Vec similarity:\", word2vec_similarity(query, document))"
   ]
  },
  {
   "cell_type": "code",
   "execution_count": null,
   "metadata": {},
   "outputs": [
    {
     "name": "stderr",
     "output_type": "stream",
     "text": [
      "[nltk_data] Downloading package gutenberg to\n",
      "[nltk_data]     C:\\Users\\NeilB\\AppData\\Roaming\\nltk_data...\n",
      "[nltk_data]   Unzipping corpora\\gutenberg.zip.\n"
     ]
    },
    {
     "ename": "ValueError",
     "evalue": "Cannot fit without a vocabulary or text to create it from.",
     "output_type": "error",
     "traceback": [
      "\u001b[1;31m---------------------------------------------------------------------------\u001b[0m",
      "\u001b[1;31mValueError\u001b[0m                                Traceback (most recent call last)",
      "Cell \u001b[1;32mIn[7], line 14\u001b[0m\n\u001b[0;32m     12\u001b[0m train_data \u001b[38;5;241m=\u001b[39m [\u001b[38;5;28mlist\u001b[39m(ngrams(pad_both_ends(tokens, n\u001b[38;5;241m=\u001b[39m\u001b[38;5;241m1\u001b[39m), n\u001b[38;5;241m=\u001b[39m\u001b[38;5;241m1\u001b[39m)) \u001b[38;5;28;01mfor\u001b[39;00m n \u001b[38;5;129;01min\u001b[39;00m \u001b[38;5;28mrange\u001b[39m(\u001b[38;5;241m1\u001b[39m, \u001b[38;5;241m2\u001b[39m)]\n\u001b[0;32m     13\u001b[0m lm \u001b[38;5;241m=\u001b[39m Laplace(\u001b[38;5;241m1\u001b[39m)  \u001b[38;5;66;03m# Laplace smoothing with n=1\u001b[39;00m\n\u001b[1;32m---> 14\u001b[0m \u001b[43mlm\u001b[49m\u001b[38;5;241;43m.\u001b[39;49m\u001b[43mfit\u001b[49m\u001b[43m(\u001b[49m\u001b[43mtrain_data\u001b[49m\u001b[43m)\u001b[49m\n\u001b[0;32m     16\u001b[0m \u001b[38;5;28;01mdef\u001b[39;00m \u001b[38;5;21mcalculate_lm_score\u001b[39m(text):\n\u001b[0;32m     17\u001b[0m     test_data \u001b[38;5;241m=\u001b[39m \u001b[38;5;28mlist\u001b[39m(ngrams(pad_both_ends(text\u001b[38;5;241m.\u001b[39msplit(), n\u001b[38;5;241m=\u001b[39m\u001b[38;5;241m1\u001b[39m), \u001b[38;5;241m1\u001b[39m))\n",
      "File \u001b[1;32m~\\AppData\\Local\\Packages\\PythonSoftwareFoundation.Python.3.11_qbz5n2kfra8p0\\LocalCache\\local-packages\\Python311\\site-packages\\nltk\\lm\\api.py:112\u001b[0m, in \u001b[0;36mLanguageModel.fit\u001b[1;34m(self, text, vocabulary_text)\u001b[0m\n\u001b[0;32m    110\u001b[0m \u001b[38;5;28;01mif\u001b[39;00m \u001b[38;5;129;01mnot\u001b[39;00m \u001b[38;5;28mself\u001b[39m\u001b[38;5;241m.\u001b[39mvocab:\n\u001b[0;32m    111\u001b[0m     \u001b[38;5;28;01mif\u001b[39;00m vocabulary_text \u001b[38;5;129;01mis\u001b[39;00m \u001b[38;5;28;01mNone\u001b[39;00m:\n\u001b[1;32m--> 112\u001b[0m         \u001b[38;5;28;01mraise\u001b[39;00m \u001b[38;5;167;01mValueError\u001b[39;00m(\n\u001b[0;32m    113\u001b[0m             \u001b[38;5;124m\"\u001b[39m\u001b[38;5;124mCannot fit without a vocabulary or text to create it from.\u001b[39m\u001b[38;5;124m\"\u001b[39m\n\u001b[0;32m    114\u001b[0m         )\n\u001b[0;32m    115\u001b[0m     \u001b[38;5;28mself\u001b[39m\u001b[38;5;241m.\u001b[39mvocab\u001b[38;5;241m.\u001b[39mupdate(vocabulary_text)\n\u001b[0;32m    116\u001b[0m \u001b[38;5;28mself\u001b[39m\u001b[38;5;241m.\u001b[39mcounts\u001b[38;5;241m.\u001b[39mupdate(\u001b[38;5;28mself\u001b[39m\u001b[38;5;241m.\u001b[39mvocab\u001b[38;5;241m.\u001b[39mlookup(sent) \u001b[38;5;28;01mfor\u001b[39;00m sent \u001b[38;5;129;01min\u001b[39;00m text)\n",
      "\u001b[1;31mValueError\u001b[0m: Cannot fit without a vocabulary or text to create it from."
     ]
    }
   ],
   "source": [
    "import nltk\n",
    "from nltk.util import ngrams\n",
    "from nltk.lm import Laplace\n",
    "from nltk.lm.preprocessing import pad_both_ends\n",
    "\n",
    "nltk.download('gutenberg')\n",
    "from nltk.corpus import gutenberg\n",
    "\n",
    "# Train a unigram language model using Gutenberg corpus\n",
    "text = gutenberg.raw('shakespeare-hamlet.txt')\n",
    "tokens = text.split()\n",
    "train_data = [list(ngrams(pad_both_ends(tokens, n=1), n=1)) for n in range(1, 2)]\n",
    "lm = Laplace(1)  # Laplace smoothing with n=1\n",
    "lm.fit(train_data)\n",
    "\n",
    "def calculate_lm_score(text):\n",
    "    test_data = list(ngrams(pad_both_ends(text.split(), n=1), 1))\n",
    "    score = lm.perplexity(test_data)\n",
    "    return score\n",
    "\n",
    "# Sample data\n",
    "text1 = \"To be or not to be\"\n",
    "text2 = \"To sleep, perchance to dream\"\n",
    "\n",
    "# Calculate LM score for the sample data\n",
    "lm_score1 = calculate_lm_score(text1)\n",
    "lm_score2 = calculate_lm_score(text2)\n",
    "\n",
    "print(\"LM score for text1:\", lm_score1)\n",
    "print(\"LM score for text2:\", lm_score2)"
   ]
  }
 ],
 "metadata": {
  "kernelspec": {
   "display_name": "Python 3",
   "language": "python",
   "name": "python3"
  },
  "language_info": {
   "codemirror_mode": {
    "name": "ipython",
    "version": 3
   },
   "file_extension": ".py",
   "mimetype": "text/x-python",
   "name": "python",
   "nbconvert_exporter": "python",
   "pygments_lexer": "ipython3",
   "version": "3.11.9"
  }
 },
 "nbformat": 4,
 "nbformat_minor": 2
}
