{
 "cells": [
  {
   "cell_type": "code",
   "execution_count": 13,
   "metadata": {},
   "outputs": [],
   "source": [
    "%load_ext autoreload\n",
    "%autoreload 2"
   ]
  },
  {
   "cell_type": "markdown",
   "metadata": {},
   "source": [
    "# PROJET RI TESTS"
   ]
  },
  {
   "cell_type": "code",
   "execution_count": 1,
   "metadata": {},
   "outputs": [
    {
     "name": "stderr",
     "output_type": "stream",
     "text": [
      "C:\\Users\\NeilB\\AppData\\Local\\Packages\\PythonSoftwareFoundation.Python.3.11_qbz5n2kfra8p0\\LocalCache\\local-packages\\Python311\\site-packages\\tqdm\\auto.py:21: TqdmWarning: IProgress not found. Please update jupyter and ipywidgets. See https://ipywidgets.readthedocs.io/en/stable/user_install.html\n",
      "  from .autonotebook import tqdm as notebook_tqdm\n",
      "[nltk_data] Downloading package wordnet to\n",
      "[nltk_data]     C:\\Users\\NeilB\\AppData\\Roaming\\nltk_data...\n",
      "[nltk_data]   Package wordnet is already up-to-date!\n",
      "[nltk_data] Downloading package stopwords to\n",
      "[nltk_data]     C:\\Users\\NeilB\\AppData\\Roaming\\nltk_data...\n",
      "[nltk_data]   Package stopwords is already up-to-date!\n"
     ]
    }
   ],
   "source": [
    "import datasets\n",
    "import utils\n",
    "import features\n",
    "\n",
    "from nltk.corpus import wordnet\n",
    "from nltk.tokenize import word_tokenize\n",
    "from nltk.corpus import stopwords\n",
    "import string\n",
    "import nltk\n"
   ]
  },
  {
   "cell_type": "markdown",
   "metadata": {},
   "source": [
    "## DATA"
   ]
  },
  {
   "cell_type": "code",
   "execution_count": 9,
   "metadata": {},
   "outputs": [],
   "source": [
    "#T elechargement et sauvegarde des datasets \n",
    "\n",
    "# from datasets import load_dataset \n",
    "# wikiqa = load_dataset(\"wiki_qa\")\n",
    "# wikiqa.save_to_disk(\"wikiqa\")"
   ]
  },
  {
   "cell_type": "code",
   "execution_count": 2,
   "metadata": {},
   "outputs": [],
   "source": [
    "#Load le dataset ( enregistré en format pyarrow ./wikiqa )\n",
    "wikiqa_data = datasets.load_from_disk(\"wikiqa\")"
   ]
  },
  {
   "cell_type": "code",
   "execution_count": 3,
   "metadata": {},
   "outputs": [
    {
     "name": "stdout",
     "output_type": "stream",
     "text": [
      "DatasetDict({\n",
      "    test: Dataset({\n",
      "        features: ['question_id', 'question', 'document_title', 'answer', 'label'],\n",
      "        num_rows: 6165\n",
      "    })\n",
      "    validation: Dataset({\n",
      "        features: ['question_id', 'question', 'document_title', 'answer', 'label'],\n",
      "        num_rows: 2733\n",
      "    })\n",
      "    train: Dataset({\n",
      "        features: ['question_id', 'question', 'document_title', 'answer', 'label'],\n",
      "        num_rows: 20360\n",
      "    })\n",
      "})\n",
      "Dataset({\n",
      "    features: ['question_id', 'question', 'document_title', 'answer', 'label'],\n",
      "    num_rows: 20360\n",
      "})\n"
     ]
    }
   ],
   "source": [
    "print(wikiqa_data)\n",
    "print(wikiqa_data[\"train\"])"
   ]
  },
  {
   "cell_type": "code",
   "execution_count": 4,
   "metadata": {},
   "outputs": [],
   "source": [
    "wikiqa_data_train = wikiqa_data[\"train\"]    \n",
    "questions = wikiqa_data_train[\"question\"]   #questions\n",
    "answers = wikiqa_data_train[\"answer\"]       #answers\n",
    "labels = wikiqa_data_train[\"label\"]         #labels (pertinent non pertinent)\n",
    "\n",
    "#Preprocessing ( see utils.preprocess )\n",
    "questions = [utils.preprocess(txt) for txt in questions]\n",
    "answers = [utils.preprocess(txt) for txt in answers]"
   ]
  },
  {
   "cell_type": "markdown",
   "metadata": {},
   "source": [
    "### Overlap fraction between a query and a set of answers"
   ]
  },
  {
   "cell_type": "code",
   "execution_count": 5,
   "metadata": {},
   "outputs": [
    {
     "ename": "ValueError",
     "evalue": "too many values to unpack (expected 2)",
     "output_type": "error",
     "traceback": [
      "\u001b[1;31m---------------------------------------------------------------------------\u001b[0m",
      "\u001b[1;31mValueError\u001b[0m                                Traceback (most recent call last)",
      "Cell \u001b[1;32mIn[5], line 6\u001b[0m\n\u001b[0;32m      3\u001b[0m rep \u001b[38;5;241m=\u001b[39m [\u001b[38;5;124m\"\u001b[39m\u001b[38;5;124mI like apples and bananas.\u001b[39m\u001b[38;5;124m\"\u001b[39m, \u001b[38;5;124m\"\u001b[39m\u001b[38;5;124mI prefer oranges.\u001b[39m\u001b[38;5;124m\"\u001b[39m]\n\u001b[0;32m      5\u001b[0m \u001b[38;5;66;03m# Calculate overlap fraction feature for the sample data using the adapted function\u001b[39;00m\n\u001b[1;32m----> 6\u001b[0m overlap_fraction_features \u001b[38;5;241m=\u001b[39m \u001b[38;5;28mlist\u001b[39m(\u001b[43mfeatures\u001b[49m\u001b[38;5;241;43m.\u001b[39;49m\u001b[43mcalculate_overlap_fraction\u001b[49m\u001b[43m(\u001b[49m\u001b[43mqrep\u001b[49m\u001b[43m,\u001b[49m\u001b[43m \u001b[49m\u001b[43mrep\u001b[49m\u001b[43m)\u001b[49m)\n\u001b[0;32m      8\u001b[0m \u001b[38;5;28mprint\u001b[39m(overlap_fraction_features)\n",
      "File \u001b[1;32md:\\études\\pldac\\M1S2DAC\\RITAL\\projet-ri\\features.py:24\u001b[0m, in \u001b[0;36mcalculate_overlap_fraction\u001b[1;34m(qrep, rep)\u001b[0m\n\u001b[0;32m     22\u001b[0m \u001b[38;5;28;01mfor\u001b[39;00m qtext \u001b[38;5;129;01min\u001b[39;00m qrep:\n\u001b[0;32m     23\u001b[0m     qterms \u001b[38;5;241m=\u001b[39m \u001b[38;5;28mset\u001b[39m(qtext\u001b[38;5;241m.\u001b[39mlower()\u001b[38;5;241m.\u001b[39msplit())\n\u001b[1;32m---> 24\u001b[0m     \u001b[38;5;28;01mfor\u001b[39;00m _, text \u001b[38;5;129;01min\u001b[39;00m rep:\n\u001b[0;32m     25\u001b[0m         text \u001b[38;5;241m=\u001b[39m text\u001b[38;5;241m.\u001b[39mlower()\n\u001b[0;32m     26\u001b[0m         tterms \u001b[38;5;241m=\u001b[39m \u001b[38;5;28mset\u001b[39m(text\u001b[38;5;241m.\u001b[39msplit())\n",
      "\u001b[1;31mValueError\u001b[0m: too many values to unpack (expected 2)"
     ]
    }
   ],
   "source": [
    "# test de la feature overlap\n",
    "qrep = [\"apples banana\"]\n",
    "rep = [\"I like apples and bananas.\", \"I prefer oranges.\"]\n",
    "\n",
    "# Calculate overlap fraction feature for the sample data using the adapted function\n",
    "overlap_fraction_features = list(features.calculate_overlap_fraction(qrep, rep))\n",
    "\n",
    "print(overlap_fraction_features)"
   ]
  },
  {
   "cell_type": "markdown",
   "metadata": {},
   "source": [
    "### Overlap synonym fraction between a query and a set of answers"
   ]
  },
  {
   "cell_type": "code",
   "execution_count": 7,
   "metadata": {},
   "outputs": [
    {
     "ename": "NameError",
     "evalue": "name 'tokenize' is not defined",
     "output_type": "error",
     "traceback": [
      "\u001b[1;31m---------------------------------------------------------------------------\u001b[0m",
      "\u001b[1;31mNameError\u001b[0m                                 Traceback (most recent call last)",
      "Cell \u001b[1;32mIn[7], line 6\u001b[0m\n\u001b[0;32m      3\u001b[0m rep \u001b[38;5;241m=\u001b[39m [\u001b[38;5;124m\"\u001b[39m\u001b[38;5;124mI am feeling good today.\u001b[39m\u001b[38;5;124m\"\u001b[39m, \u001b[38;5;124m\"\u001b[39m\u001b[38;5;124mShe seems pitiful sad and distressing and sorry.\u001b[39m\u001b[38;5;124m\"\u001b[39m]\n\u001b[0;32m      5\u001b[0m \u001b[38;5;66;03m# Calculate overlap synonym fraction feature for the sample data using the function\u001b[39;00m\n\u001b[1;32m----> 6\u001b[0m overlap_syn_fraction_features \u001b[38;5;241m=\u001b[39m \u001b[38;5;28mlist\u001b[39m(\u001b[43mfeatures\u001b[49m\u001b[38;5;241;43m.\u001b[39;49m\u001b[43moverlap_syn_fraction\u001b[49m\u001b[43m(\u001b[49m\u001b[43mqrep\u001b[49m\u001b[43m,\u001b[49m\u001b[43m \u001b[49m\u001b[43mrep\u001b[49m\u001b[43m)\u001b[49m)\n\u001b[0;32m      8\u001b[0m \u001b[38;5;28mprint\u001b[39m(overlap_syn_fraction_features)\n\u001b[0;32m     10\u001b[0m \u001b[38;5;28mprint\u001b[39m(utils\u001b[38;5;241m.\u001b[39mget_synonyms(\u001b[38;5;124m'\u001b[39m\u001b[38;5;124msad\u001b[39m\u001b[38;5;124m'\u001b[39m))\n",
      "File \u001b[1;32md:\\études\\pldac\\M1S2DAC\\RITAL\\projet-ri\\features.py:44\u001b[0m, in \u001b[0;36moverlap_syn_fraction\u001b[1;34m(query, document)\u001b[0m\n\u001b[0;32m     35\u001b[0m \u001b[38;5;250m\u001b[39m\u001b[38;5;124;03m\"\"\"\u001b[39;00m\n\u001b[0;32m     36\u001b[0m \u001b[38;5;124;03mCalcule la fraction de synonymes des termes de la requête présents dans le document.\u001b[39;00m\n\u001b[0;32m     37\u001b[0m \u001b[38;5;124;03m\u001b[39;00m\n\u001b[1;32m   (...)\u001b[0m\n\u001b[0;32m     41\u001b[0m \u001b[38;5;124;03mreturn : float : La fraction de synonymes couverts.\u001b[39;00m\n\u001b[0;32m     42\u001b[0m \u001b[38;5;124;03m\"\"\"\u001b[39;00m\n\u001b[0;32m     43\u001b[0m \u001b[38;5;66;03m# Tokenisation de la requête et du document\u001b[39;00m\n\u001b[1;32m---> 44\u001b[0m query_terms \u001b[38;5;241m=\u001b[39m \u001b[43mtokenize\u001b[49m(query)\n\u001b[0;32m     45\u001b[0m document_terms \u001b[38;5;241m=\u001b[39m tokenize(document)\n\u001b[0;32m     47\u001b[0m \u001b[38;5;66;03m# Récupération des synonymes des termes de la requête\u001b[39;00m\n",
      "\u001b[1;31mNameError\u001b[0m: name 'tokenize' is not defined"
     ]
    }
   ],
   "source": [
    "# Sample data\n",
    "qrep = \"sad\"\n",
    "rep = [\"I am feeling good today.\", \"She seems pitiful sad and distressing and sorry.\"]\n",
    "\n",
    "# Calculate overlap synonym fraction feature for the sample data using the function\n",
    "overlap_syn_fraction_features = list(features.overlap_syn_fraction(qrep, rep))\n",
    "\n",
    "print(overlap_syn_fraction_features)\n",
    "\n",
    "print(utils.get_synonyms('sad'))"
   ]
  },
  {
   "cell_type": "markdown",
   "metadata": {},
   "source": [
    "### BM25 scores "
   ]
  },
  {
   "cell_type": "code",
   "execution_count": 21,
   "metadata": {},
   "outputs": [
    {
     "name": "stdout",
     "output_type": "stream",
     "text": [
      "BM25 score: 1.8372575870263608\n"
     ]
    }
   ],
   "source": [
    "import math\n",
    "from collections import Counter\n",
    "\n",
    "query = \"query bout bananas\"\n",
    "document = \"documentary about bananas\"\n",
    "corpus = [\n",
    "    \"this is the first document with strawberries\",\n",
    "    \"this document is the second document without apples\",\n",
    "    \"and this is the third one\",\n",
    "    \"is this the first document but ananas are cool\",\n",
    "    \"documentary about bananas\"\n",
    "]\n",
    "\n",
    "score = bm25_score(query, document, corpus)\n",
    "print(f\"BM25 score: {score}\")\n"
   ]
  },
  {
   "cell_type": "code",
   "execution_count": 8,
   "metadata": {},
   "outputs": [
    {
     "name": "stderr",
     "output_type": "stream",
     "text": [
      "[nltk_data] Downloading package gutenberg to /home/neyroy/nltk_data...\n",
      "[nltk_data]   Package gutenberg is already up-to-date!\n"
     ]
    },
    {
     "ename": "ValueError",
     "evalue": "Cannot fit without a vocabulary or text to create it from.",
     "output_type": "error",
     "traceback": [
      "\u001b[0;31m---------------------------------------------------------------------------\u001b[0m",
      "\u001b[0;31mValueError\u001b[0m                                Traceback (most recent call last)",
      "Cell \u001b[0;32mIn[8], line 14\u001b[0m\n\u001b[1;32m     12\u001b[0m train_data \u001b[38;5;241m=\u001b[39m [\u001b[38;5;28mlist\u001b[39m(ngrams(pad_both_ends(tokens, n\u001b[38;5;241m=\u001b[39m\u001b[38;5;241m1\u001b[39m), n\u001b[38;5;241m=\u001b[39m\u001b[38;5;241m1\u001b[39m)) \u001b[38;5;28;01mfor\u001b[39;00m n \u001b[38;5;129;01min\u001b[39;00m \u001b[38;5;28mrange\u001b[39m(\u001b[38;5;241m1\u001b[39m, \u001b[38;5;241m2\u001b[39m)]\n\u001b[1;32m     13\u001b[0m lm \u001b[38;5;241m=\u001b[39m Laplace(\u001b[38;5;241m1\u001b[39m)  \u001b[38;5;66;03m# Laplace smoothing with n=1\u001b[39;00m\n\u001b[0;32m---> 14\u001b[0m \u001b[43mlm\u001b[49m\u001b[38;5;241;43m.\u001b[39;49m\u001b[43mfit\u001b[49m\u001b[43m(\u001b[49m\u001b[43mtrain_data\u001b[49m\u001b[43m)\u001b[49m\n\u001b[1;32m     16\u001b[0m \u001b[38;5;28;01mdef\u001b[39;00m \u001b[38;5;21mcalculate_lm_score\u001b[39m(text):\n\u001b[1;32m     17\u001b[0m     test_data \u001b[38;5;241m=\u001b[39m \u001b[38;5;28mlist\u001b[39m(ngrams(pad_both_ends(text\u001b[38;5;241m.\u001b[39msplit(), n\u001b[38;5;241m=\u001b[39m\u001b[38;5;241m1\u001b[39m), \u001b[38;5;241m1\u001b[39m))\n",
      "File \u001b[0;32m~/.local/lib/python3.10/site-packages/nltk/lm/api.py:112\u001b[0m, in \u001b[0;36mLanguageModel.fit\u001b[0;34m(self, text, vocabulary_text)\u001b[0m\n\u001b[1;32m    110\u001b[0m \u001b[38;5;28;01mif\u001b[39;00m \u001b[38;5;129;01mnot\u001b[39;00m \u001b[38;5;28mself\u001b[39m\u001b[38;5;241m.\u001b[39mvocab:\n\u001b[1;32m    111\u001b[0m     \u001b[38;5;28;01mif\u001b[39;00m vocabulary_text \u001b[38;5;129;01mis\u001b[39;00m \u001b[38;5;28;01mNone\u001b[39;00m:\n\u001b[0;32m--> 112\u001b[0m         \u001b[38;5;28;01mraise\u001b[39;00m \u001b[38;5;167;01mValueError\u001b[39;00m(\n\u001b[1;32m    113\u001b[0m             \u001b[38;5;124m\"\u001b[39m\u001b[38;5;124mCannot fit without a vocabulary or text to create it from.\u001b[39m\u001b[38;5;124m\"\u001b[39m\n\u001b[1;32m    114\u001b[0m         )\n\u001b[1;32m    115\u001b[0m     \u001b[38;5;28mself\u001b[39m\u001b[38;5;241m.\u001b[39mvocab\u001b[38;5;241m.\u001b[39mupdate(vocabulary_text)\n\u001b[1;32m    116\u001b[0m \u001b[38;5;28mself\u001b[39m\u001b[38;5;241m.\u001b[39mcounts\u001b[38;5;241m.\u001b[39mupdate(\u001b[38;5;28mself\u001b[39m\u001b[38;5;241m.\u001b[39mvocab\u001b[38;5;241m.\u001b[39mlookup(sent) \u001b[38;5;28;01mfor\u001b[39;00m sent \u001b[38;5;129;01min\u001b[39;00m text)\n",
      "\u001b[0;31mValueError\u001b[0m: Cannot fit without a vocabulary or text to create it from."
     ]
    }
   ],
   "source": [
    "import nltk\n",
    "from nltk.util import ngrams\n",
    "from nltk.lm import Laplace\n",
    "from nltk.lm.preprocessing import pad_both_ends\n",
    "\n",
    "nltk.download('gutenberg')\n",
    "from nltk.corpus import gutenberg\n",
    "\n",
    "# Train a unigram language model using Gutenberg corpus\n",
    "text = gutenberg.raw('shakespeare-hamlet.txt')\n",
    "tokens = text.split()\n",
    "train_data = [list(ngrams(pad_both_ends(tokens, n=1), n=1)) for n in range(1, 2)]\n",
    "lm = Laplace(1)  # Laplace smoothing with n=1\n",
    "lm.fit(train_data)\n",
    "\n",
    "def calculate_lm_score(text):\n",
    "    test_data = list(ngrams(pad_both_ends(text.split(), n=1), 1))\n",
    "    score = lm.perplexity(test_data)\n",
    "    return score\n",
    "\n",
    "# Sample data\n",
    "text1 = \"To be or not to be\"\n",
    "text2 = \"To sleep, perchance to dream\"\n",
    "\n",
    "# Calculate LM score for the sample data\n",
    "lm_score1 = calculate_lm_score(text1)\n",
    "lm_score2 = calculate_lm_score(text2)\n",
    "\n",
    "print(\"LM score for text1:\", lm_score1)\n",
    "print(\"LM score for text2:\", lm_score2)"
   ]
  }
 ],
 "metadata": {
  "kernelspec": {
   "display_name": "Python 3",
   "language": "python",
   "name": "python3"
  },
  "language_info": {
   "codemirror_mode": {
    "name": "ipython",
    "version": 3
   },
   "file_extension": ".py",
   "mimetype": "text/x-python",
   "name": "python",
   "nbconvert_exporter": "python",
   "pygments_lexer": "ipython3",
   "version": "3.11.9"
  }
 },
 "nbformat": 4,
 "nbformat_minor": 2
}
