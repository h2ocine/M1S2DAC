{
 "cells": [
  {
   "cell_type": "code",
   "execution_count": 6,
   "metadata": {},
   "outputs": [
    {
     "name": "stdout",
     "output_type": "stream",
     "text": [
      "The autoreload extension is already loaded. To reload it, use:\n",
      "  %reload_ext autoreload\n"
     ]
    }
   ],
   "source": [
    "%load_ext autoreload\n",
    "%autoreload 2\n",
    "import pandas as pd\n",
    "import unicodedata\n",
    "import string\n",
    "import re\n",
    "import spacy\n",
    "from datasets import load_from_disk\n",
    "from sklearn.feature_extraction.text import TfidfVectorizer\n",
    "from sklearn.svm import SVC\n",
    "from sklearn.linear_model import LogisticRegression\n",
    "from sklearn.pipeline import Pipeline\n",
    "from sklearn.compose import ColumnTransformer\n",
    "from sklearn.metrics import classification_report\n",
    "from sklearn.utils import resample\n",
    "from sklearn.metrics import classification_report, accuracy_score, precision_score, recall_score, f1_score\n",
    "import numpy as np\n",
    "import time\n",
    "import utils"
   ]
  },
  {
   "cell_type": "code",
   "execution_count": 3,
   "metadata": {},
   "outputs": [],
   "source": [
    "wikiqa_data = load_from_disk(\"wikiqa\")\n",
    "test_data_set = wikiqa_data[\"test\"]\n",
    "train_data_set = wikiqa_data[\"train\"]\n",
    "validation_data_set = wikiqa_data[\"validation\"]\n",
    "\n",
    "\n",
    "def preprocess_examples(examples):\n",
    "    examples['question'] = [utils.preprocess(q) for q in examples['question']]\n",
    "    examples['answer'] = [utils.preprocess(a) for a in examples['answer']]\n",
    "    return examples\n",
    "\n",
    "train_data_set = train_data_set.map(preprocess_examples, batched=True)\n",
    "validation_data_set = validation_data_set.map(preprocess_examples, batched=True)\n",
    "test_data_set = test_data_set.map(preprocess_examples, batched=True)\n",
    "\n",
    "# Convertir en DataFrame\n",
    "train_df = pd.DataFrame({\n",
    "    'question': train_data_set['question'],\n",
    "    'answer': train_data_set['answer'],\n",
    "    'label': train_data_set['label']\n",
    "})\n",
    "\n",
    "validation_df = pd.DataFrame({\n",
    "    'question': validation_data_set['question'],\n",
    "    'answer': validation_data_set['answer'],\n",
    "    'label': validation_data_set['label']\n",
    "})\n",
    "\n",
    "test_df = pd.DataFrame({\n",
    "    'question': test_data_set['question'],\n",
    "    'answer': test_data_set['answer'],\n",
    "    'label': test_data_set['label']\n",
    "})"
   ]
  },
  {
   "cell_type": "code",
   "execution_count": 4,
   "metadata": {},
   "outputs": [
    {
     "name": "stdout",
     "output_type": "stream",
     "text": [
      "Temps d'entraînement réel: 0.46 secondes\n"
     ]
    }
   ],
   "source": [
    "# Définir le pipeline de transformation des colonnes\n",
    "preprocess_pipeline = ColumnTransformer(\n",
    "    transformers=[\n",
    "        ('question', TfidfVectorizer(), 'question'),\n",
    "        ('answer', TfidfVectorizer(), 'answer'),\n",
    "    ]\n",
    ")\n",
    "\n",
    "pipeline = Pipeline(steps=[\n",
    "    ('preprocessor', preprocess_pipeline),\n",
    "    ('classifier', LogisticRegression(solver='liblinear'))\n",
    "])\n",
    "\n",
    "# Entraîner le modèle avec les données équilibrées\n",
    "start_time = time.time()\n",
    "pipeline.fit(train_df[['question', 'answer']], train_df['label'])\n",
    "end_time = time.time()\n",
    "actual_training_time = end_time - start_time\n",
    "print(f\"Temps d'entraînement réel: {actual_training_time:.2f} secondes\")\n",
    "\n",
    "# Fonction pour calculer MAP, MRR, S@1\n",
    "def compute_metrics(df, predictions, probabilities):\n",
    "    grouped = df.groupby('question')\n",
    "    ap_sum = 0\n",
    "    rr_sum = 0\n",
    "    success_at_1 = 0\n",
    "    for name, group in grouped:\n",
    "        group_probs = probabilities[group.index, 1]  # Probabilités de la classe 1\n",
    "        group_labels = group['label'].values\n",
    "        sorted_indices = np.argsort(-group_probs)  # Trier les indices par probabilité décroissante\n",
    "        sorted_labels = group_labels[sorted_indices]\n",
    "        \n",
    "        ap = 0\n",
    "        correct_count = 0\n",
    "        for rank, label in enumerate(sorted_labels, 1):\n",
    "            if label == 1:\n",
    "                correct_count += 1\n",
    "                ap += correct_count / rank\n",
    "                if correct_count == 1:\n",
    "                    rr_sum += 1 / rank\n",
    "        ap /= max(correct_count, 1)\n",
    "        ap_sum += ap\n",
    "        \n",
    "        if sorted_labels[0] == 1:\n",
    "            success_at_1 += 1\n",
    "    \n",
    "    n = len(grouped)\n",
    "    map_score = ap_sum / n\n",
    "    mrr_score = rr_sum / n\n",
    "    success_at_1_score = success_at_1 / n\n",
    "    \n",
    "    return map_score, mrr_score, success_at_1_score"
   ]
  },
  {
   "cell_type": "code",
   "execution_count": 7,
   "metadata": {},
   "outputs": [
    {
     "ename": "NameError",
     "evalue": "name 'balanced_validation_df' is not defined",
     "output_type": "error",
     "traceback": [
      "\u001b[1;31m---------------------------------------------------------------------------\u001b[0m",
      "\u001b[1;31mNameError\u001b[0m                                 Traceback (most recent call last)",
      "Cell \u001b[1;32mIn[7], line 2\u001b[0m\n\u001b[0;32m      1\u001b[0m \u001b[38;5;66;03m# Évaluer le modèle sur les données de validation\u001b[39;00m\n\u001b[1;32m----> 2\u001b[0m validation_predictions \u001b[38;5;241m=\u001b[39m pipeline\u001b[38;5;241m.\u001b[39mpredict(\u001b[43mbalanced_validation_df\u001b[49m[[\u001b[38;5;124m'\u001b[39m\u001b[38;5;124mquestion\u001b[39m\u001b[38;5;124m'\u001b[39m, \u001b[38;5;124m'\u001b[39m\u001b[38;5;124manswer\u001b[39m\u001b[38;5;124m'\u001b[39m]])\n\u001b[0;32m      3\u001b[0m validation_probabilities \u001b[38;5;241m=\u001b[39m pipeline\u001b[38;5;241m.\u001b[39mpredict_proba(balanced_validation_df[[\u001b[38;5;124m'\u001b[39m\u001b[38;5;124mquestion\u001b[39m\u001b[38;5;124m'\u001b[39m, \u001b[38;5;124m'\u001b[39m\u001b[38;5;124manswer\u001b[39m\u001b[38;5;124m'\u001b[39m]])\n\u001b[0;32m      4\u001b[0m map_score, mrr_score, success_at_1_score \u001b[38;5;241m=\u001b[39m compute_metrics(balanced_validation_df, validation_predictions, validation_probabilities)\n",
      "\u001b[1;31mNameError\u001b[0m: name 'balanced_validation_df' is not defined"
     ]
    }
   ],
   "source": [
    "# Évaluer le modèle sur les données de validation\n",
    "validation_predictions = pipeline.predict(balanced_validation_df[['question', 'answer']])\n",
    "validation_probabilities = pipeline.predict_proba(balanced_validation_df[['question', 'answer']])\n",
    "map_score, mrr_score, success_at_1_score = compute_metrics(balanced_validation_df, validation_predictions, validation_probabilities)\n",
    "print(f\"\\nValidation Results:\\nMAP: {map_score}\\nMRR: {mrr_score}\\nS@1: {success_at_1_score}\\n\")\n",
    "\n",
    "# Calculer les métriques classiques\n",
    "validation_accuracy = accuracy_score(balanced_validation_df['label'], validation_predictions)\n",
    "validation_precision = precision_score(balanced_validation_df['label'], validation_predictions)\n",
    "validation_recall = recall_score(balanced_validation_df['label'], validation_predictions)\n",
    "validation_f1 = f1_score(balanced_validation_df['label'], validation_predictions)\n",
    "\n",
    "print(f\"Accuracy: {validation_accuracy}\")\n",
    "print(f\"Precision: {validation_precision}\")\n",
    "print(f\"Recall: {validation_recall}\")\n",
    "print(f\"F1 Score: {validation_f1}\")\n",
    "\n",
    "# Évaluer le modèle sur les données de test\n",
    "test_predictions = pipeline.predict(balanced_test_df[['question', 'answer']])\n",
    "test_probabilities = pipeline.predict_proba(balanced_test_df[['question', 'answer']])\n",
    "map_score, mrr_score, success_at_1_score = compute_metrics(balanced_test_df, test_predictions, test_probabilities)\n",
    "print(f\"\\nTest Results:\\nMAP: {map_score}\\nMRR: {mrr_score}\\nS@1: {success_at_1_score}\\n\")\n",
    "\n",
    "# Calculer les métriques classiques\n",
    "test_accuracy = accuracy_score(balanced_test_df['label'], test_predictions)\n",
    "test_precision = precision_score(balanced_test_df['label'], test_predictions)\n",
    "test_recall = recall_score(balanced_test_df['label'], test_predictions)\n",
    "test_f1 = f1_score(balanced_test_df['label'], test_predictions)\n",
    "\n",
    "print(f\"Accuracy: {test_accuracy}\")\n",
    "print(f\"Precision: {test_precision}\")\n",
    "print(f\"Recall: {test_recall}\")\n",
    "print(f\"F1 Score: {test_f1}\")"
   ]
  },
  {
   "cell_type": "code",
   "execution_count": 8,
   "metadata": {},
   "outputs": [
    {
     "name": "stdout",
     "output_type": "stream",
     "text": [
      "\n",
      "Validation Results:\n",
      "MAP: 0.2511612226442736\n",
      "MRR: 0.25228437914878604\n",
      "S@1: 0.18305084745762712\n",
      "\n",
      "Accuracy: 0.9498719356019026\n",
      "Precision: 1.0\n",
      "Recall: 0.02142857142857143\n",
      "F1 Score: 0.04195804195804196\n",
      "\n",
      "Test Results:\n",
      "MAP: 0.22066635850583924\n",
      "MRR: 0.22571738786966483\n",
      "S@1: 0.15955766192733017\n",
      "\n",
      "Accuracy: 0.9524736415247365\n",
      "Precision: 0.0\n",
      "Recall: 0.0\n",
      "F1 Score: 0.0\n"
     ]
    },
    {
     "name": "stderr",
     "output_type": "stream",
     "text": [
      "C:\\Users\\NeilB\\AppData\\Local\\Packages\\PythonSoftwareFoundation.Python.3.11_qbz5n2kfra8p0\\LocalCache\\local-packages\\Python311\\site-packages\\sklearn\\metrics\\_classification.py:1497: UndefinedMetricWarning: Precision is ill-defined and being set to 0.0 due to no predicted samples. Use `zero_division` parameter to control this behavior.\n",
      "  _warn_prf(average, modifier, f\"{metric.capitalize()} is\", len(result))\n"
     ]
    }
   ],
   "source": [
    "# Evaluate the model on validation data\n",
    "validation_predictions = pipeline.predict(validation_df[['question', 'answer']])\n",
    "validation_probabilities = pipeline.predict_proba(validation_df[['question', 'answer']])\n",
    "map_score, mrr_score, success_at_1_score = compute_metrics(validation_df, validation_predictions, validation_probabilities)\n",
    "print(f\"\\nValidation Results:\\nMAP: {map_score}\\nMRR: {mrr_score}\\nS@1: {success_at_1_score}\\n\")\n",
    "\n",
    "# Calculate classic metrics\n",
    "validation_accuracy = accuracy_score(validation_df['label'], validation_predictions)\n",
    "validation_precision = precision_score(validation_df['label'], validation_predictions)\n",
    "validation_recall = recall_score(validation_df['label'], validation_predictions)\n",
    "validation_f1 = f1_score(validation_df['label'], validation_predictions)\n",
    "\n",
    "print(f\"Accuracy: {validation_accuracy}\")\n",
    "print(f\"Precision: {validation_precision}\")\n",
    "print(f\"Recall: {validation_recall}\")\n",
    "print(f\"F1 Score: {validation_f1}\")\n",
    "\n",
    "# Evaluate the model on test data\n",
    "test_predictions = pipeline.predict(test_df[['question', 'answer']])\n",
    "test_probabilities = pipeline.predict_proba(test_df[['question', 'answer']])\n",
    "map_score, mrr_score, success_at_1_score = compute_metrics(test_df, test_predictions, test_probabilities)\n",
    "print(f\"\\nTest Results:\\nMAP: {map_score}\\nMRR: {mrr_score}\\nS@1: {success_at_1_score}\\n\")\n",
    "\n",
    "# Calculate classic metrics\n",
    "test_accuracy = accuracy_score(test_df['label'], test_predictions)\n",
    "test_precision = precision_score(test_df['label'], test_predictions)\n",
    "test_recall = recall_score(test_df['label'], test_predictions)\n",
    "test_f1 = f1_score(test_df['label'], test_predictions)\n",
    "\n",
    "print(f\"Accuracy: {test_accuracy}\")\n",
    "print(f\"Precision: {test_precision}\")\n",
    "print(f\"Recall: {test_recall}\")\n",
    "print(f\"F1 Score: {test_f1}\")\n"
   ]
  }
 ],
 "metadata": {
  "kernelspec": {
   "display_name": "Python 3",
   "language": "python",
   "name": "python3"
  },
  "language_info": {
   "codemirror_mode": {
    "name": "ipython",
    "version": 3
   },
   "file_extension": ".py",
   "mimetype": "text/x-python",
   "name": "python",
   "nbconvert_exporter": "python",
   "pygments_lexer": "ipython3",
   "version": "3.11.9"
  }
 },
 "nbformat": 4,
 "nbformat_minor": 2
}
