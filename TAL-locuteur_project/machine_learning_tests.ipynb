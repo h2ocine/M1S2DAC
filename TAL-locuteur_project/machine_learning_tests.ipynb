{
 "cells": [
  {
   "cell_type": "code",
   "execution_count": 41,
   "metadata": {},
   "outputs": [],
   "source": [
    "import matplotlib.pyplot as plt\n",
    "import nltk\n",
    "import numpy as np\n",
    "import pandas as pd\n",
    "import sklearn\n",
    "import warnings\n",
    "\n",
    "from sklearn.feature_extraction.text import CountVectorizer, TfidfVectorizer\n",
    "from nltk.corpus import stopwords\n",
    "from nltk.tokenize import word_tokenize\n",
    "import utils\n",
    "import ml_functions\n",
    "from sklearn.linear_model import LogisticRegression, LogisticRegressionCV\n",
    "\n",
    "from sklearn import (\n",
    "    linear_model, \n",
    "    ensemble,\n",
    "    tree,\n",
    "    decomposition, \n",
    "    naive_bayes, \n",
    "    neural_network,\n",
    "    svm,\n",
    "    metrics,\n",
    "    preprocessing, \n",
    "    model_selection, \n",
    "    pipeline,\n",
    ")\n",
    "from sklearn.model_selection import train_test_split\n",
    "from sklearn.model_selection import cross_val_score, learning_curve\n",
    "import warnings\n",
    "from sklearn.exceptions import ConvergenceWarning\n",
    "from imblearn.pipeline import make_pipeline as make_imb_pipeline\n",
    "warnings.filterwarnings(\"ignore\", category=ConvergenceWarning)\n",
    "\n",
    "from imblearn.over_sampling import RandomOverSampler\n",
    "from imblearn.under_sampling import RandomUnderSampler\n",
    "from sklearn.metrics import RocCurveDisplay\n",
    "from sklearn.metrics import PrecisionRecallDisplay\n",
    "from tqdm import tqdm\n",
    "from time import time\n",
    "from sklearn.model_selection import StratifiedKFold, LeaveOneOut, cross_val_score\n",
    "from sklearn.svm import LinearSVC\n",
    "from sklearn.model_selection import LearningCurveDisplay, ShuffleSplit"
   ]
  },
  {
   "cell_type": "markdown",
   "metadata": {},
   "source": [
    "## Load the data & Préprocessing"
   ]
  },
  {
   "cell_type": "code",
   "execution_count": 2,
   "metadata": {},
   "outputs": [],
   "source": [
    "fname = \"./datasets/AFDpresidentutf8/corpus.tache1.learn.utf8\"\n",
    "alltxts,alllabs = utils.load_pres(fname)\n"
   ]
  },
  {
   "cell_type": "code",
   "execution_count": 3,
   "metadata": {},
   "outputs": [],
   "source": [
    "locuteurs_df = pd.DataFrame()\n",
    "locuteurs_df['text'] = alltxts\n",
    "locuteurs_df['label'] = alllabs"
   ]
  },
  {
   "cell_type": "code",
   "execution_count": 4,
   "metadata": {},
   "outputs": [
    {
     "data": {
      "text/plain": [
       "<bound method NDFrame.describe of                                                     text  label\n",
       "0       quand je dis chers amis il ne sagit pas la du...      1\n",
       "1       dabord merci de cet exceptionnel accueil que ...      1\n",
       "2       cest toujours tres emouvant de venir en afriq...      1\n",
       "3       aucun citoyen francais ne peut etre indiffere...      1\n",
       "4       le congo que naguere le nom qualifia de refug...      1\n",
       "...                                                  ...    ...\n",
       "57408              je suis heureux de le mener avec vous      1\n",
       "57409   vous le savez comme vous jai la passion de la...      1\n",
       "57410                             je crois en son avenir      1\n",
       "57411   je crois en la politique cestadire en notre c...      1\n",
       "57412                                 je compte sur vous      1\n",
       "\n",
       "[57413 rows x 2 columns]>"
      ]
     },
     "execution_count": 4,
     "metadata": {},
     "output_type": "execute_result"
    }
   ],
   "source": [
    "preprocessed_alltxts = [utils.preprocess(alltxt) for alltxt in locuteurs_df.text]\n",
    "\n",
    "preprocessed_locuteurs_df = pd.DataFrame()\n",
    "preprocessed_locuteurs_df['text'] = preprocessed_alltxts\n",
    "preprocessed_locuteurs_df['label'] = alllabs\n",
    "\n",
    "preprocessed_locuteurs_df.describe\n"
   ]
  },
  {
   "cell_type": "code",
   "execution_count": 5,
   "metadata": {},
   "outputs": [
    {
     "data": {
      "text/plain": [
       "<bound method NDFrame.describe of                                                     text  label\n",
       "45008   de mener a bien dans lequite dans le dialogue...      1\n",
       "5011                            tout cela nest pas exact      1\n",
       "31032   cest tout le merite du maitre douvrage et des...      1\n",
       "31493   a lenraciner dans les esprits et dans les coeurs      1\n",
       "1270    nos deux pays qui travaillent la main dans la...      1\n",
       "...                                                  ...    ...\n",
       "54343   et puis nous devons egalement etre porteurs d...      1\n",
       "38158                      il les impose trop lourdement      1\n",
       "860                         dautres figures lont marquee      1\n",
       "15795   avec le gouvernement que jai constitue et qui...     -1\n",
       "56422   il faut dabord examiner les problemes du cont...     -1\n",
       "\n",
       "[57413 rows x 2 columns]>"
      ]
     },
     "execution_count": 5,
     "metadata": {},
     "output_type": "execute_result"
    }
   ],
   "source": [
    "# Mélange des données\n",
    "preprocessed_locuteurs_df = preprocessed_locuteurs_df.sample(frac=1, random_state=42)\n",
    "\n",
    "preprocessed_locuteurs_df.describe"
   ]
  },
  {
   "cell_type": "code",
   "execution_count": 6,
   "metadata": {},
   "outputs": [
    {
     "name": "stdout",
     "output_type": "stream",
     "text": [
      "57413\n",
      "57413\n"
     ]
    }
   ],
   "source": [
    "print(len(preprocessed_locuteurs_df['text']))\n",
    "print(len(preprocessed_locuteurs_df['label']))"
   ]
  },
  {
   "cell_type": "code",
   "execution_count": 13,
   "metadata": {},
   "outputs": [],
   "source": [
    "X, X_test, y, y_test = model_selection.train_test_split(preprocessed_locuteurs_df['text'], preprocessed_locuteurs_df['label'], test_size=0.2, random_state=24, stratify= preprocessed_locuteurs_df['label'])"
   ]
  },
  {
   "cell_type": "markdown",
   "metadata": {},
   "source": [
    "# Etude de la cross validation "
   ]
  },
  {
   "cell_type": "code",
   "execution_count": 21,
   "metadata": {},
   "outputs": [],
   "source": [
    "def make_pipeline(mode, model):\n",
    "    if mode == \"original\":\n",
    "        return make_imb_pipeline(CountVectorizer(), model())\n",
    "    elif mode == \"oversampling\":\n",
    "        return make_imb_pipeline(CountVectorizer(), RandomOverSampler(), model())\n",
    "    elif mode == \"undersampling\":\n",
    "        return make_imb_pipeline(\n",
    "            CountVectorizer(), RandomUnderSampler(replacement=False), model()\n",
    "        )\n",
    "    elif mode == \"regularization\" and model.__name__ != \"MultinomialNB\":\n",
    "        return make_imb_pipeline(CountVectorizer(), model(class_weight=\"balanced\"))\n",
    "    elif \"regularization\" in mode and model.__name__ == \"MultinomialNB\":\n",
    "        return make_imb_pipeline(CountVectorizer(), model(fit_prior=True))"
   ]
  },
  {
   "cell_type": "code",
   "execution_count": 22,
   "metadata": {},
   "outputs": [
    {
     "name": "stderr",
     "output_type": "stream",
     "text": [
      "  3%|▎         | 1/29 [00:02<01:17,  2.77s/it]"
     ]
    },
    {
     "name": "stdout",
     "output_type": "stream",
     "text": [
      "> folds=2, accuracy=0.850 (0.849,0.851)\n"
     ]
    },
    {
     "name": "stderr",
     "output_type": "stream",
     "text": [
      "  7%|▋         | 2/29 [00:05<01:06,  2.47s/it]"
     ]
    },
    {
     "name": "stdout",
     "output_type": "stream",
     "text": [
      "> folds=3, accuracy=0.858 (0.853,0.861)\n"
     ]
    },
    {
     "name": "stderr",
     "output_type": "stream",
     "text": [
      " 10%|█         | 3/29 [00:07<01:03,  2.44s/it]"
     ]
    },
    {
     "name": "stdout",
     "output_type": "stream",
     "text": [
      "> folds=4, accuracy=0.862 (0.860,0.866)\n"
     ]
    },
    {
     "name": "stderr",
     "output_type": "stream",
     "text": [
      " 14%|█▍        | 4/29 [00:09<01:01,  2.45s/it]"
     ]
    },
    {
     "name": "stdout",
     "output_type": "stream",
     "text": [
      "> folds=5, accuracy=0.864 (0.860,0.870)\n"
     ]
    },
    {
     "name": "stderr",
     "output_type": "stream",
     "text": [
      " 17%|█▋        | 5/29 [00:11<00:54,  2.27s/it]"
     ]
    },
    {
     "name": "stdout",
     "output_type": "stream",
     "text": [
      "> folds=6, accuracy=0.866 (0.856,0.871)\n"
     ]
    },
    {
     "name": "stderr",
     "output_type": "stream",
     "text": [
      " 21%|██        | 6/29 [00:13<00:49,  2.17s/it]"
     ]
    },
    {
     "name": "stdout",
     "output_type": "stream",
     "text": [
      "> folds=7, accuracy=0.867 (0.857,0.876)\n"
     ]
    },
    {
     "name": "stderr",
     "output_type": "stream",
     "text": [
      " 24%|██▍       | 7/29 [00:16<00:48,  2.21s/it]"
     ]
    },
    {
     "name": "stdout",
     "output_type": "stream",
     "text": [
      "> folds=8, accuracy=0.867 (0.853,0.881)\n"
     ]
    },
    {
     "name": "stderr",
     "output_type": "stream",
     "text": [
      " 28%|██▊       | 8/29 [00:18<00:48,  2.29s/it]"
     ]
    },
    {
     "name": "stdout",
     "output_type": "stream",
     "text": [
      "> folds=9, accuracy=0.868 (0.856,0.883)\n"
     ]
    },
    {
     "name": "stderr",
     "output_type": "stream",
     "text": [
      " 31%|███       | 9/29 [00:21<00:48,  2.42s/it]"
     ]
    },
    {
     "name": "stdout",
     "output_type": "stream",
     "text": [
      "> folds=10, accuracy=0.868 (0.853,0.879)\n"
     ]
    },
    {
     "name": "stderr",
     "output_type": "stream",
     "text": [
      " 34%|███▍      | 10/29 [00:24<00:49,  2.61s/it]"
     ]
    },
    {
     "name": "stdout",
     "output_type": "stream",
     "text": [
      "> folds=11, accuracy=0.868 (0.852,0.882)\n"
     ]
    },
    {
     "name": "stderr",
     "output_type": "stream",
     "text": [
      " 38%|███▊      | 11/29 [00:27<00:51,  2.84s/it]"
     ]
    },
    {
     "name": "stdout",
     "output_type": "stream",
     "text": [
      "> folds=12, accuracy=0.869 (0.850,0.887)\n"
     ]
    },
    {
     "name": "stderr",
     "output_type": "stream",
     "text": [
      " 41%|████▏     | 12/29 [00:31<00:55,  3.24s/it]"
     ]
    },
    {
     "name": "stdout",
     "output_type": "stream",
     "text": [
      "> folds=13, accuracy=0.870 (0.851,0.888)\n"
     ]
    },
    {
     "name": "stderr",
     "output_type": "stream",
     "text": [
      " 45%|████▍     | 13/29 [00:35<00:56,  3.50s/it]"
     ]
    },
    {
     "name": "stdout",
     "output_type": "stream",
     "text": [
      "> folds=14, accuracy=0.869 (0.845,0.883)\n"
     ]
    },
    {
     "name": "stderr",
     "output_type": "stream",
     "text": [
      " 48%|████▊     | 14/29 [00:40<00:57,  3.82s/it]"
     ]
    },
    {
     "name": "stdout",
     "output_type": "stream",
     "text": [
      "> folds=15, accuracy=0.869 (0.851,0.891)\n"
     ]
    },
    {
     "name": "stderr",
     "output_type": "stream",
     "text": [
      " 52%|█████▏    | 15/29 [00:44<00:56,  4.01s/it]"
     ]
    },
    {
     "name": "stdout",
     "output_type": "stream",
     "text": [
      "> folds=16, accuracy=0.869 (0.838,0.889)\n"
     ]
    },
    {
     "name": "stderr",
     "output_type": "stream",
     "text": [
      " 55%|█████▌    | 16/29 [00:49<00:54,  4.17s/it]"
     ]
    },
    {
     "name": "stdout",
     "output_type": "stream",
     "text": [
      "> folds=17, accuracy=0.869 (0.848,0.889)\n"
     ]
    },
    {
     "name": "stderr",
     "output_type": "stream",
     "text": [
      " 59%|█████▊    | 17/29 [00:53<00:51,  4.28s/it]"
     ]
    },
    {
     "name": "stdout",
     "output_type": "stream",
     "text": [
      "> folds=18, accuracy=0.870 (0.841,0.901)\n"
     ]
    },
    {
     "name": "stderr",
     "output_type": "stream",
     "text": [
      " 62%|██████▏   | 18/29 [00:58<00:48,  4.43s/it]"
     ]
    },
    {
     "name": "stdout",
     "output_type": "stream",
     "text": [
      "> folds=19, accuracy=0.870 (0.847,0.894)\n"
     ]
    },
    {
     "name": "stderr",
     "output_type": "stream",
     "text": [
      " 66%|██████▌   | 19/29 [01:03<00:45,  4.54s/it]"
     ]
    },
    {
     "name": "stdout",
     "output_type": "stream",
     "text": [
      "> folds=20, accuracy=0.870 (0.845,0.886)\n"
     ]
    },
    {
     "name": "stderr",
     "output_type": "stream",
     "text": [
      " 69%|██████▉   | 20/29 [01:08<00:42,  4.70s/it]"
     ]
    },
    {
     "name": "stdout",
     "output_type": "stream",
     "text": [
      "> folds=21, accuracy=0.870 (0.834,0.905)\n"
     ]
    },
    {
     "name": "stderr",
     "output_type": "stream",
     "text": [
      " 72%|███████▏  | 21/29 [01:13<00:38,  4.85s/it]"
     ]
    },
    {
     "name": "stdout",
     "output_type": "stream",
     "text": [
      "> folds=22, accuracy=0.870 (0.850,0.892)\n"
     ]
    },
    {
     "name": "stderr",
     "output_type": "stream",
     "text": [
      " 76%|███████▌  | 22/29 [01:19<00:35,  5.07s/it]"
     ]
    },
    {
     "name": "stdout",
     "output_type": "stream",
     "text": [
      "> folds=23, accuracy=0.870 (0.825,0.896)\n"
     ]
    },
    {
     "name": "stderr",
     "output_type": "stream",
     "text": [
      " 79%|███████▉  | 23/29 [01:25<00:32,  5.34s/it]"
     ]
    },
    {
     "name": "stdout",
     "output_type": "stream",
     "text": [
      "> folds=24, accuracy=0.870 (0.845,0.907)\n"
     ]
    },
    {
     "name": "stderr",
     "output_type": "stream",
     "text": [
      " 83%|████████▎ | 24/29 [01:32<00:28,  5.74s/it]"
     ]
    },
    {
     "name": "stdout",
     "output_type": "stream",
     "text": [
      "> folds=25, accuracy=0.870 (0.822,0.895)\n"
     ]
    },
    {
     "name": "stderr",
     "output_type": "stream",
     "text": [
      " 86%|████████▌ | 25/29 [01:38<00:24,  6.06s/it]"
     ]
    },
    {
     "name": "stdout",
     "output_type": "stream",
     "text": [
      "> folds=26, accuracy=0.870 (0.841,0.899)\n"
     ]
    },
    {
     "name": "stderr",
     "output_type": "stream",
     "text": [
      " 90%|████████▉ | 26/29 [01:46<00:19,  6.42s/it]"
     ]
    },
    {
     "name": "stdout",
     "output_type": "stream",
     "text": [
      "> folds=27, accuracy=0.870 (0.829,0.908)\n"
     ]
    },
    {
     "name": "stderr",
     "output_type": "stream",
     "text": [
      " 93%|█████████▎| 27/29 [01:53<00:13,  6.79s/it]"
     ]
    },
    {
     "name": "stdout",
     "output_type": "stream",
     "text": [
      "> folds=28, accuracy=0.870 (0.833,0.899)\n"
     ]
    },
    {
     "name": "stderr",
     "output_type": "stream",
     "text": [
      " 97%|█████████▋| 28/29 [02:01<00:07,  7.12s/it]"
     ]
    },
    {
     "name": "stdout",
     "output_type": "stream",
     "text": [
      "> folds=29, accuracy=0.870 (0.830,0.900)\n"
     ]
    },
    {
     "name": "stderr",
     "output_type": "stream",
     "text": [
      "100%|██████████| 29/29 [02:09<00:00,  4.46s/it]"
     ]
    },
    {
     "name": "stdout",
     "output_type": "stream",
     "text": [
      "> folds=30, accuracy=0.870 (0.827,0.909)\n"
     ]
    },
    {
     "name": "stderr",
     "output_type": "stream",
     "text": [
      "\n"
     ]
    }
   ],
   "source": [
    "pipeline = make_pipeline(\"original\", LogisticRegression)\n",
    "\n",
    "# ideal = np.mean(cross_val_score(pipeline, X, y, scoring='accuracy', cv=LeaveOneOut(), n_jobs=-1))\n",
    "# define folds to test\n",
    "folds = range(2, 31)\n",
    "# record mean and min/max of each set of results\n",
    "means, mins, maxs, times = list(), list(), list(), list()\n",
    "# evaluate each k value\n",
    "for k in tqdm(folds):\n",
    "    # define the test condition\n",
    "    t = time()\n",
    "    cv = StratifiedKFold(n_splits=k, shuffle=True, random_state=1)\n",
    "    # evaluate k value\n",
    "    scores = cross_val_score(pipeline, X, y, scoring=\"roc_auc\", cv=cv, n_jobs=-1)\n",
    "    times.append(time() - t)\n",
    "    k_mean, k_min, k_max = np.mean(scores), scores.min(), scores.max()\n",
    "    # report performance\n",
    "    print(\"folds=%d, accuracy=%.3f (%.3f,%.3f)\" % (k, k_mean, k_min, k_max))\n",
    "    # store mean accuracy\n",
    "    means.append(k_mean)\n",
    "    # store min and max relative to the mean\n",
    "    mins.append(k_mean - k_min)\n",
    "    maxs.append(k_max - k_mean)"
   ]
  },
  {
   "cell_type": "code",
   "execution_count": 27,
   "metadata": {},
   "outputs": [
    {
     "data": {
      "image/png": "[encoded data removed]",
      "text/plain": [
       "<Figure size 1500x600 with 1 Axes>"
      ]
     },
     "metadata": {},
     "output_type": "display_data"
    }
   ],
   "source": [
    "# Tracé du premier graphique avec les barres d'erreur\n",
    "plt.figure(figsize=(15, 6))\n",
    "plt.subplot(121)\n",
    "plt.errorbar(folds, means, yerr=[mins, maxs], fmt=\"o\", color=\"blue\")  # Modification de la couleur\n",
    "plt.xlabel(\"$k$\")\n",
    "plt.ylabel(\"ROC-AUC\")\n",
    "plt.title(\"Valeur moyenne du score en cross-validation\\nen fonction au nombre de folds $k$\")\n",
    "plt.show()"
   ]
  },
  {
   "cell_type": "code",
   "execution_count": 35,
   "metadata": {},
   "outputs": [
    {
     "data": {
      "image/png": "[encoded data removed]",
      "text/plain": [
       "<Figure size 640x480 with 1 Axes>"
      ]
     },
     "metadata": {},
     "output_type": "display_data"
    }
   ],
   "source": [
    "plt.plot(folds, times, \"r-o\")\n",
    "plt.xlabel(\"$k$\")\n",
    "plt.ylabel(\"Temps (s)\")\n",
    "plt.title(\"Temps d'apprentissage en fonction du nombre de folds $k$\")\n",
    "\n",
    "plt.show()"
   ]
  }
 ],
 "metadata": {
  "kernelspec": {
   "display_name": "Python 3",
   "language": "python",
   "name": "python3"
  },
  "language_info": {
   "codemirror_mode": {
    "name": "ipython",
    "version": 3
   },
   "file_extension": ".py",
   "mimetype": "text/x-python",
   "name": "python",
   "nbconvert_exporter": "python",
   "pygments_lexer": "ipython3",
   "version": "3.11.8"
  }
 },
 "nbformat": 4,
 "nbformat_minor": 2
}
