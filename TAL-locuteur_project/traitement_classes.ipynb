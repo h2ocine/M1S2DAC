{
 "cells": [
  {
   "cell_type": "code",
   "execution_count": 1,
   "metadata": {},
   "outputs": [
    {
     "name": "stderr",
     "output_type": "stream",
     "text": [
      "C:\\Users\\Kadem\\AppData\\Local\\Temp\\ipykernel_57008\\2165595470.py:34: DeprecationWarning: \n",
      "Pyarrow will become a required dependency of pandas in the next major release of pandas (pandas 3.0),\n",
      "(to allow more performant data types, such as the Arrow string type, and better interoperability with other libraries)\n",
      "but was not found to be installed on your system.\n",
      "If this would cause problems for you,\n",
      "please provide us feedback at https://github.com/pandas-dev/pandas/issues/54466\n",
      "        \n",
      "  import pandas as pd\n"
     ]
    }
   ],
   "source": [
    "from sklearn.model_selection import GridSearchCV\n",
    "from sklearn.pipeline import Pipeline\n",
    "from sklearn.feature_extraction.text import CountVectorizer, TfidfVectorizer\n",
    "from sklearn.linear_model import LogisticRegression, LogisticRegressionCV\n",
    "from sklearn.ensemble import RandomForestClassifier\n",
    "from sklearn.svm import SVC\n",
    "from sklearn.feature_extraction.text import CountVectorizer, TfidfVectorizer\n",
    "from sklearn.model_selection import GridSearchCV\n",
    "from sklearn.pipeline import Pipeline\n",
    "from sklearn.naive_bayes import BernoulliNB\n",
    "from sklearn.decomposition import TruncatedSVD\n",
    "from sklearn.preprocessing import FunctionTransformer\n",
    "\n",
    "from sklearn import (\n",
    "    linear_model, \n",
    "    ensemble,\n",
    "    tree,\n",
    "    decomposition, \n",
    "    naive_bayes, \n",
    "    neural_network,\n",
    "    svm,\n",
    "    metrics,\n",
    "    preprocessing, \n",
    "    model_selection, \n",
    "    pipeline,\n",
    ")\n",
    "from sklearn.model_selection import train_test_split\n",
    "from sklearn.svm import SVC\n",
    "from sklearn.metrics import accuracy_score, f1_score, roc_auc_score, auc, roc_curve\n",
    "from sklearn.tree import DecisionTreeClassifier\n",
    "from sklearn.decomposition import PCA\n",
    "from sklearn.preprocessing import StandardScaler, MinMaxScaler\n",
    "import numpy as np\n",
    "import pandas as pd\n",
    "\n",
    "import utils\n",
    "\n",
    "from nltk.corpus import stopwords\n",
    "\n",
    "stopwords_fr = stopwords.words('french')\n",
    "\n",
    "\n",
    "red_code = '\\033[91m'\n",
    "blue_code = '\\033[94m'\n",
    "green_code = '\\033[92m'\n",
    "yellow_code = '\\033[93m'\n",
    "reset_code = '\\033[0m'"
   ]
  },
  {
   "cell_type": "markdown",
   "metadata": {},
   "source": [
    "#### Chargement des données "
   ]
  },
  {
   "cell_type": "code",
   "execution_count": 2,
   "metadata": {},
   "outputs": [],
   "source": [
    "fname = \"./datasets/AFDpresidentutf8/corpus.tache1.learn.utf8\"\n",
    "alltxts,alllabs = utils.load_pres(fname)\n",
    "\n",
    "pres_df = pd.DataFrame()\n",
    "pres_df['text'] = alltxts\n",
    "pres_df['label'] = alllabs"
   ]
  },
  {
   "cell_type": "code",
   "execution_count": 3,
   "metadata": {},
   "outputs": [],
   "source": [
    "preprocessed_alltxts = [utils.preprocess(alltxt) for alltxt in pres_df.text]\n",
    "\n",
    "preprocessed_pres_df = pd.DataFrame()\n",
    "preprocessed_pres_df['text'] = preprocessed_alltxts\n",
    "preprocessed_pres_df['label'] = alllabs"
   ]
  },
  {
   "cell_type": "code",
   "execution_count": 4,
   "metadata": {},
   "outputs": [],
   "source": [
    "def analyse_pipeline(vectorizer, classifier, X_text_train, y_train, X_text_test, y_test):\n",
    "    pipe = Pipeline([\n",
    "    ('vectorizer', vectorizer),\n",
    "    ('classifier', classifier)\n",
    "    ])\n",
    "\n",
    "    pipe.fit(X_text_train, y_train)\n",
    "\n",
    "    y_pred = pipe.predict(X_text_test)\n",
    "    report = metrics.classification_report(y_test, y_pred)\n",
    "    print(\"Classification Report:\")\n",
    "    print(report)\n",
    "    print(\"\")\n",
    "\n",
    "    return pipe"
   ]
  },
  {
   "cell_type": "markdown",
   "metadata": {},
   "source": [
    "## Probléme de désequilibre"
   ]
  },
  {
   "cell_type": "markdown",
   "metadata": {},
   "source": [
    "On creer un split de test pour le garder plutard pour tester notre modéle, ensuite on devisera chaque partie d'entrainement, en train et validation"
   ]
  },
  {
   "cell_type": "code",
   "execution_count": 5,
   "metadata": {},
   "outputs": [],
   "source": [
    "X, X_test, y, y_test = model_selection.train_test_split(preprocessed_pres_df['text'], preprocessed_pres_df['label'], test_size=0.2, random_state=24, stratify= preprocessed_pres_df['label'])"
   ]
  },
  {
   "cell_type": "code",
   "execution_count": 9,
   "metadata": {},
   "outputs": [
    {
     "name": "stdout",
     "output_type": "stream",
     "text": [
      "Classification Report:\n",
      "              precision    recall  f1-score   support\n",
      "\n",
      "          -1       0.82      0.25      0.39      1204\n",
      "           1       0.90      0.99      0.94      7982\n",
      "\n",
      "    accuracy                           0.89      9186\n",
      "   macro avg       0.86      0.62      0.66      9186\n",
      "weighted avg       0.89      0.89      0.87      9186\n",
      "\n",
      "\n"
     ]
    }
   ],
   "source": [
    "X_text_train_rs, X_text_test_rs, y_train_rs, y_test_rs = model_selection.train_test_split(X, y, test_size=0.2, random_state=24, stratify = y)\n",
    "\n",
    "clf = LogisticRegression()\n",
    "vct = TfidfVectorizer(ngram_range=(1,3), sublinear_tf=True)\n",
    "pipe = analyse_pipeline(vct, clf, X_text_train_rs, y_train_rs, X_text_test_rs, y_test_rs)"
   ]
  },
  {
   "cell_type": "markdown",
   "metadata": {},
   "source": [
    "l'hyperparametre \"class_weight\" avec la valeure 'balanced' utilise les valeurs de y pour ajuster automatiquement les poids de manière inversement proportionnelle aux fréquences des classes dans les données d'entrée, comme n_samples / (n_classes * np.bincount(y))."
   ]
  },
  {
   "cell_type": "code",
   "execution_count": 10,
   "metadata": {},
   "outputs": [
    {
     "name": "stdout",
     "output_type": "stream",
     "text": [
      "Classification Report:\n",
      "              precision    recall  f1-score   support\n",
      "\n",
      "          -1       0.45      0.72      0.55      1204\n",
      "           1       0.95      0.87      0.91      7982\n",
      "\n",
      "    accuracy                           0.85      9186\n",
      "   macro avg       0.70      0.79      0.73      9186\n",
      "weighted avg       0.89      0.85      0.86      9186\n",
      "\n",
      "\n"
     ]
    }
   ],
   "source": [
    "X_text_train_rs, X_text_test_rs, y_train_rs, y_test_rs = model_selection.train_test_split(X, y, test_size=0.2, random_state=24, stratify = y)\n",
    "\n",
    "clf = LogisticRegression(class_weight='balanced')\n",
    "vct = TfidfVectorizer(ngram_range=(1,3), sublinear_tf=True)\n",
    "pipe = analyse_pipeline(vct, clf, X_text_train_rs, y_train_rs, X_text_test_rs, y_test_rs)"
   ]
  },
  {
   "cell_type": "markdown",
   "metadata": {},
   "source": [
    "On remarque un enorme désequilibre dans les classes, la classe minoritaire a un trés mauvais F1 score, et conditions réelle le modéle ne serra pas bien prédire et dinstinguer les deux classes, on va parcourir plusieurs méthodes pour corrigé le probléme"
   ]
  },
  {
   "cell_type": "markdown",
   "metadata": {},
   "source": [
    "### Sous-échantillonnage de la classe majoritaire"
   ]
  },
  {
   "cell_type": "markdown",
   "metadata": {},
   "source": [
    "Cette méthode consiste à répliquer aléatoirement les exemples de la classe minoritaire afin d'équilibrer le nombre d'exemples entre les classes."
   ]
  },
  {
   "cell_type": "code",
   "execution_count": 11,
   "metadata": {},
   "outputs": [],
   "source": [
    "from imblearn.under_sampling import RandomUnderSampler\n",
    "\n",
    "# X représente vos données et y représente vos étiquettes\n",
    "undersampler = RandomUnderSampler()\n",
    "X_resampled, y_resampled = undersampler.fit_resample(X.to_frame(), y.to_frame())"
   ]
  },
  {
   "cell_type": "code",
   "execution_count": 12,
   "metadata": {},
   "outputs": [
    {
     "name": "stdout",
     "output_type": "stream",
     "text": [
      "Classification Report:\n",
      "              precision    recall  f1-score   support\n",
      "\n",
      "          -1       0.75      0.82      0.78      1204\n",
      "           1       0.80      0.72      0.76      1204\n",
      "\n",
      "    accuracy                           0.77      2408\n",
      "   macro avg       0.77      0.77      0.77      2408\n",
      "weighted avg       0.77      0.77      0.77      2408\n",
      "\n",
      "\n"
     ]
    }
   ],
   "source": [
    "X_text_train_rs, X_text_test_rs, y_train_rs, y_test_rs = model_selection.train_test_split(X_resampled['text'], y_resampled['label'], test_size=0.2, random_state=24, stratify = y_resampled['label'])\n",
    "\n",
    "vct = TfidfVectorizer(ngram_range=(1,3), sublinear_tf=True)\n",
    "clf = LogisticRegression(class_weight='balanced')\n",
    "pipe = analyse_pipeline(vct, clf, X_text_train_rs, y_train_rs, X_text_test_rs, y_test_rs)"
   ]
  },
  {
   "cell_type": "code",
   "execution_count": 13,
   "metadata": {},
   "outputs": [
    {
     "name": "stdout",
     "output_type": "stream",
     "text": [
      "Classification Report:\n",
      "              precision    recall  f1-score   support\n",
      "\n",
      "          -1       0.31      0.79      0.44      1505\n",
      "           1       0.96      0.73      0.83      9978\n",
      "\n",
      "    accuracy                           0.74     11483\n",
      "   macro avg       0.63      0.76      0.64     11483\n",
      "weighted avg       0.87      0.74      0.78     11483\n",
      "\n",
      "\n"
     ]
    }
   ],
   "source": [
    "#On teste si le modéle generralise bien : \n",
    "y_pred = pipe.predict(X_test)\n",
    "report = metrics.classification_report(y_test, y_pred)\n",
    "print(\"Classification Report:\")\n",
    "print(report)\n",
    "print(\"\")"
   ]
  },
  {
   "cell_type": "markdown",
   "metadata": {},
   "source": [
    "C'est déja mieux, mais ce n'est pas suffisant"
   ]
  },
  {
   "cell_type": "markdown",
   "metadata": {},
   "source": [
    "### Sur Echantillionage sur la classe minoritaire :"
   ]
  },
  {
   "cell_type": "code",
   "execution_count": 14,
   "metadata": {},
   "outputs": [],
   "source": [
    "from imblearn.over_sampling import RandomOverSampler\n",
    "oversampler = RandomOverSampler()\n",
    "X_resampled, y_resampled = oversampler.fit_resample(X.to_frame(), y.to_frame())"
   ]
  },
  {
   "cell_type": "code",
   "execution_count": 18,
   "metadata": {},
   "outputs": [
    {
     "name": "stdout",
     "output_type": "stream",
     "text": [
      "Classification Report:\n",
      "              precision    recall  f1-score   support\n",
      "\n",
      "          -1       0.87      0.97      0.92      7983\n",
      "           1       0.97      0.85      0.91      7982\n",
      "\n",
      "    accuracy                           0.91     15965\n",
      "   macro avg       0.92      0.91      0.91     15965\n",
      "weighted avg       0.92      0.91      0.91     15965\n",
      "\n",
      "\n"
     ]
    }
   ],
   "source": [
    "X_text_train_rs, X_text_test_rs, y_train_rs, y_test_rs = model_selection.train_test_split(X_resampled['text'], y_resampled['label'], test_size=0.2, random_state=24, stratify = y_resampled['label'])\n",
    "\n",
    "vct = TfidfVectorizer(ngram_range=(1,3), sublinear_tf=True)\n",
    "clf = LogisticRegression(class_weight='balanced')\n",
    "pipe = analyse_pipeline(vct, clf, X_text_train_rs, y_train_rs, X_text_test_rs, y_test_rs)"
   ]
  },
  {
   "cell_type": "code",
   "execution_count": 19,
   "metadata": {},
   "outputs": [
    {
     "name": "stdout",
     "output_type": "stream",
     "text": [
      "Classification Report:\n",
      "              precision    recall  f1-score   support\n",
      "\n",
      "          -1       0.44      0.74      0.55      1505\n",
      "           1       0.96      0.86      0.90      9978\n",
      "\n",
      "    accuracy                           0.84     11483\n",
      "   macro avg       0.70      0.80      0.72     11483\n",
      "weighted avg       0.89      0.84      0.86     11483\n",
      "\n",
      "\n"
     ]
    }
   ],
   "source": [
    "#On teste si le modéle generralise bien : \n",
    "y_pred = pipe.predict(X_test)\n",
    "report = metrics.classification_report(y_test, y_pred)\n",
    "print(\"Classification Report:\")\n",
    "print(report)\n",
    "print(\"\")"
   ]
  },
  {
   "cell_type": "markdown",
   "metadata": {},
   "source": [
    "### Post traitement Gaussian smoothing"
   ]
  },
  {
   "cell_type": "code",
   "execution_count": 13,
   "metadata": {},
   "outputs": [],
   "source": [
    "def countValue(l):\n",
    "    d = {-1:0, 1:0}\n",
    "    for v in l:\n",
    "        # d[v] = d.get(v, 0) + 1\n",
    "        d[v] += 1\n",
    "    return d\n",
    "\n",
    "def gaussian_smoothing(y, size=1):\n",
    "    \"\"\"\n",
    "    Convolue sur la liste et regarde le nombre de voisin dans la fenêtre centré sur le point.\n",
    "    Attribue simple la classe la plus présente dans la fenêtre au point centré.\n",
    "    \"\"\"\n",
    "    new_y = y.copy()\n",
    "    for i in range(size, len(y) - size):\n",
    "        window = y[i - size : i + size + 1]\n",
    "        d = countValue(window)\n",
    "        if d[-1] < d[1]:\n",
    "            new_y[i] = 1\n",
    "        elif d[-1] > d[1]:\n",
    "            new_y[i] = -1\n",
    "        else:\n",
    "            pass\n",
    "    return new_y\n"
   ]
  },
  {
   "cell_type": "code",
   "execution_count": 138,
   "metadata": {},
   "outputs": [],
   "source": [
    "X, X_test, y, y_test = model_selection.train_test_split(preprocessed_pres_df['text'], preprocessed_pres_df['label'], test_size=0.2, random_state=24, shuffle=False)\n",
    "X_text_train_rs, X_text_test_rs, y_train_rs, y_test_rs = model_selection.train_test_split(X, y, test_size=0.2, random_state=24, stratify = y)\n",
    "\n",
    "size = 5 \n",
    "\n",
    "pipe = Pipeline([\n",
    "('vectorizer', TfidfVectorizer(sublinear_tf=True, ngram_range=(1,2))),\n",
    "('classifier', LogisticRegression(class_weight='balanced'))\n",
    "])\n",
    "\n",
    "pipe.fit(X_text_train_rs, y_train_rs)\n",
    "\n",
    "y_pred = pipe.predict(X_test)\n"
   ]
  },
  {
   "cell_type": "code",
   "execution_count": 139,
   "metadata": {},
   "outputs": [
    {
     "name": "stdout",
     "output_type": "stream",
     "text": [
      "0.4735472679965308\n"
     ]
    }
   ],
   "source": [
    "report = metrics.classification_report(y_test, y_pred, output_dict=True)\n",
    "f1_score = report[\"-1\"][\"f1-score\"]\n",
    "print(f1_score)\n"
   ]
  },
  {
   "cell_type": "code",
   "execution_count": 141,
   "metadata": {},
   "outputs": [
    {
     "data": {
      "image/png": "[encoded data removed]",
      "text/plain": [
       "<Figure size 640x480 with 1 Axes>"
      ]
     },
     "metadata": {},
     "output_type": "display_data"
    }
   ],
   "source": [
    "import matplotlib.pyplot as plt\n",
    "\n",
    "sizes = range(0,10)  # Liste des valeurs de size à essayer\n",
    "f1_scores_smoothed = []\n",
    "f1_scores_unsmoothed = []\n",
    "\n",
    "for size in sizes:\n",
    "    y_pred_smoothed = gaussian_smoothing(y_pred, size)\n",
    "    \n",
    "    report_smoothed = metrics.classification_report(y_test, y_pred_smoothed, output_dict=True)\n",
    "    f1_score_smoothed = report_smoothed[\"-1\"][\"f1-score\"]\n",
    "    f1_scores_smoothed.append(f1_score_smoothed)\n",
    "    \n",
    "    report_unsmoothed = metrics.classification_report(y_test, y_pred, output_dict=True)\n",
    "    f1_score_unsmoothed = report_unsmoothed[\"-1\"][\"f1-score\"]\n",
    "    f1_scores_unsmoothed.append(f1_score_unsmoothed)\n",
    "\n",
    "plt.plot(sizes, f1_scores_smoothed, marker='o', label=\"Smoothed\")\n",
    "plt.plot(sizes, f1_scores_unsmoothed, marker='o', label=\"Unsmoothed\")\n",
    "plt.xlabel(\"Size\")\n",
    "plt.ylabel(\"F1-score\")\n",
    "plt.title(\"F1-score en fonction de la taille du filtre gaussien\")\n",
    "plt.legend()\n",
    "plt.show()"
   ]
  },
  {
   "cell_type": "markdown",
   "metadata": {},
   "source": [
    "On remarque un assez bon résultat sur les données de test"
   ]
  },
  {
   "cell_type": "code",
   "execution_count": null,
   "metadata": {},
   "outputs": [],
   "source": [
    "from imblearn.over_sampling import SMOTE\n",
    "\n",
    "x_train_smote, x_test_smote, y_train_smote, y_test_smote = model_selection.train_test_split(X, y, test_size=0.2, random_state=24, stratify = y)\n",
    "\n",
    "vct = TfidfVectorizer(ngram_range=(1,3), sublinear_tf=True)\n",
    "x_train_smote_tfidf = vct.fit_transform(x_train_smote)\n",
    "x_test_smote_tfidf = vct.transform(x_test_smote)\n",
    "\n",
    "smote = SMOTE(sampling_strategy='minority')\n",
    "X_resampled, y_resampled = smote.fit_resample(x_train_smote_tfidf, y_train_smote)\n",
    "\n",
    "clf = LogisticRegression(class_weight='balanced')\n",
    "\n",
    "clf.fit(x_train_smote_tfidf, y_train_smote)\n",
    "\n",
    "y_pred = pipe.predict(x_test_smote_tfidf)\n",
    "report = metrics.classification_report(y_test_smote, y_pred)\n",
    "print(\"Classification Report:\")\n",
    "print(report)\n",
    "print(\"\")"
   ]
  },
  {
   "cell_type": "markdown",
   "metadata": {},
   "source": [
    "### Test de la méthode SVD avec la regression logistique : "
   ]
  },
  {
   "cell_type": "code",
   "execution_count": 16,
   "metadata": {},
   "outputs": [],
   "source": [
    "X, X_test, y, y_test = model_selection.train_test_split(preprocessed_pres_df['text'], preprocessed_pres_df['label'], test_size=0.2, random_state=24, shuffle=False)\n",
    "X_train_svd, x_test_svd, y_train_svd, y_test_svd = model_selection.train_test_split(X, y, test_size=0.2, random_state=24, stratify = y)"
   ]
  },
  {
   "cell_type": "code",
   "execution_count": 17,
   "metadata": {},
   "outputs": [
    {
     "name": "stdout",
     "output_type": "stream",
     "text": [
      "Classification Report:\n",
      "              precision    recall  f1-score   support\n",
      "\n",
      "          -1       0.44      0.63      0.52      1272\n",
      "           1       0.94      0.87      0.90      7914\n",
      "\n",
      "    accuracy                           0.84      9186\n",
      "   macro avg       0.69      0.75      0.71      9186\n",
      "weighted avg       0.87      0.84      0.85      9186\n",
      "\n",
      "\n"
     ]
    }
   ],
   "source": [
    "from sklearn.decomposition import TruncatedSVD\n",
    "from sklearn.preprocessing import FunctionTransformer\n",
    "\n",
    "# Créer une fonction personnalisée pour la normalisation MinMax\n",
    "def min_max_normalize(X):\n",
    "    X_normalized = (X - X.min()) / (X.max() - X.min())\n",
    "    return X_normalized\n",
    "\n",
    "\n",
    "pipe = Pipeline([\n",
    "    ('vectorizer', TfidfVectorizer(sublinear_tf =  True)),\n",
    "    ('normalize', FunctionTransformer(min_max_normalize, validate=False)),\n",
    "    ('svd', TruncatedSVD(n_components=5000)),  # Ajout de l'étape SVD\n",
    "    ('classifier', LogisticRegressionCV(class_weight='balanced'))\n",
    "])\n",
    "\n",
    "pipe.fit(X_train_svd, y_train_svd)\n",
    "\n",
    "\n",
    "y_pred = pipe.predict(x_test_svd)\n",
    "report = metrics.classification_report(y_test_svd, y_pred)\n",
    "print(\"Classification Report:\")\n",
    "print(report)\n",
    "print(\"\")"
   ]
  },
  {
   "cell_type": "code",
   "execution_count": 18,
   "metadata": {},
   "outputs": [
    {
     "name": "stdout",
     "output_type": "stream",
     "text": [
      "Classification Report:\n",
      "              precision    recall  f1-score   support\n",
      "\n",
      "          -1       0.32      0.64      0.42      1163\n",
      "           1       0.95      0.85      0.90     10320\n",
      "\n",
      "    accuracy                           0.83     11483\n",
      "   macro avg       0.64      0.74      0.66     11483\n",
      "weighted avg       0.89      0.83      0.85     11483\n",
      "\n",
      "\n"
     ]
    }
   ],
   "source": [
    "y_pred = pipe.predict(X_test)\n",
    "report = metrics.classification_report(y_test, y_pred)\n",
    "print(\"Classification Report:\")\n",
    "print(report)\n",
    "print(\"\")"
   ]
  },
  {
   "cell_type": "code",
   "execution_count": 20,
   "metadata": {},
   "outputs": [
    {
     "name": "stdout",
     "output_type": "stream",
     "text": [
      "Classification Report:\n",
      "              precision    recall  f1-score   support\n",
      "\n",
      "          -1       0.74      0.59      0.66      1163\n",
      "           1       0.96      0.98      0.97     10320\n",
      "\n",
      "    accuracy                           0.94     11483\n",
      "   macro avg       0.85      0.79      0.81     11483\n",
      "weighted avg       0.93      0.94      0.93     11483\n",
      "\n",
      "\n"
     ]
    }
   ],
   "source": [
    "y_pred = pipe.predict(X_test)\n",
    "y_pred = gaussian_smoothing(y_pred, 5)\n",
    "report = metrics.classification_report(y_test, y_pred)\n",
    "print(\"Classification Report:\")\n",
    "print(report)\n",
    "print(\"\")"
   ]
  }
 ],
 "metadata": {
  "kernelspec": {
   "display_name": "Python 3",
   "language": "python",
   "name": "python3"
  },
  "language_info": {
   "codemirror_mode": {
    "name": "ipython",
    "version": 3
   },
   "file_extension": ".py",
   "mimetype": "text/x-python",
   "name": "python",
   "nbconvert_exporter": "python",
   "pygments_lexer": "ipython3",
   "version": "3.11.8"
  }
 },
 "nbformat": 4,
 "nbformat_minor": 2
}
