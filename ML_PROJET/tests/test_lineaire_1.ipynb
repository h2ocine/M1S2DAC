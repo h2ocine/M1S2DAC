{
 "cells": [
  {
   "cell_type": "code",
   "execution_count": 10,
   "metadata": {},
   "outputs": [],
   "source": [
    "import sys\n",
    "sys.path.append('../data')"
   ]
  },
  {
   "cell_type": "code",
   "execution_count": 14,
   "metadata": {},
   "outputs": [
    {
     "ename": "ModuleNotFoundError",
     "evalue": "No module named 'sequential'",
     "output_type": "error",
     "traceback": [
      "\u001b[1;31m---------------------------------------------------------------------------\u001b[0m",
      "\u001b[1;31mModuleNotFoundError\u001b[0m                       Traceback (most recent call last)",
      "Cell \u001b[1;32mIn[14], line 3\u001b[0m\n\u001b[0;32m      1\u001b[0m \u001b[38;5;28;01mimport\u001b[39;00m \u001b[38;5;21;01mmatplotlib\u001b[39;00m\u001b[38;5;21;01m.\u001b[39;00m\u001b[38;5;21;01mpyplot\u001b[39;00m \u001b[38;5;28;01mas\u001b[39;00m \u001b[38;5;21;01mplt\u001b[39;00m\n\u001b[1;32m----> 3\u001b[0m \u001b[38;5;28;01mfrom\u001b[39;00m \u001b[38;5;21;01msequential\u001b[39;00m \u001b[38;5;28;01mimport\u001b[39;00m Sequential\n\u001b[0;32m      4\u001b[0m \u001b[38;5;28;01mfrom\u001b[39;00m \u001b[38;5;21;01mlineaire_1\u001b[39;00m \u001b[38;5;28;01mimport\u001b[39;00m Linear\n\u001b[0;32m      5\u001b[0m \u001b[38;5;28;01mfrom\u001b[39;00m \u001b[38;5;21;01mloss\u001b[39;00m \u001b[38;5;28;01mimport\u001b[39;00m MSELoss\n",
      "\u001b[1;31mModuleNotFoundError\u001b[0m: No module named 'sequential'"
     ]
    }
   ],
   "source": [
    "import matplotlib.pyplot as plt\n",
    "\n",
    "from sequential import Sequential\n",
    "from lineaire_1 import Linear\n",
    "from loss import MSELoss"
   ]
  },
  {
   "cell_type": "code",
   "execution_count": null,
   "metadata": {},
   "outputs": [],
   "source": [
    "# Chargement des données MNIST\n",
    "(train_images, train_labels), (test_images, test_labels) = download_mnist()\n",
    "\n",
    "# Préparation des données\n",
    "train_images = train_images[:1000]  # Utiliser un sous-ensemble pour des tests rapides\n",
    "train_labels = train_labels[:1000]\n",
    "\n",
    "# Encodage one-hot des étiquettes\n",
    "n_classes = 10\n",
    "train_labels_onehot = np.zeros((train_labels.size, n_classes))\n",
    "train_labels_onehot[np.arange(train_labels.size), train_labels] = 1\n",
    "\n",
    "# Définition du réseau\n",
    "net = Sequential(\n",
    "    Linear(28*28, 128),\n",
    "    Linear(128, n_classes)\n",
    ")\n",
    "\n",
    "# Définition de la fonction de perte\n",
    "loss = MSELoss()\n",
    "\n",
    "# Fonction d'évaluation\n",
    "def accuracy(y_true, y_pred):\n",
    "    return np.mean(np.argmax(y_true, axis=1) == np.argmax(y_pred, axis=1))\n",
    "\n",
    "# Entraînement du réseau\n",
    "epochs = 100\n",
    "learning_rate = 1e-3\n",
    "losses = []\n",
    "\n",
    "for epoch in range(epochs):\n",
    "    yhat = net.forward(train_images)\n",
    "    cost = loss.forward(train_labels_onehot, yhat).mean()\n",
    "    losses.append(cost)\n",
    "    \n",
    "    delta = loss.backward(train_labels_onehot, yhat)\n",
    "    net.zero_grad()\n",
    "    net.backward_update_gradient(train_images, delta)\n",
    "    net.update_parameters(gradient_step=learning_rate)\n",
    "    \n",
    "    if (epoch + 1) % 10 == 0:\n",
    "        acc = accuracy(train_labels_onehot, yhat)\n",
    "        print(f\"Epoch {epoch+1}/{epochs}, Loss: {cost:.4f}, Accuracy: {acc:.4f}\")\n",
    "\n",
    "# Affichage des résultats\n",
    "plt.plot(losses)\n",
    "plt.xlabel('Epochs')\n",
    "plt.ylabel('Loss')\n",
    "plt.title('Training Loss over Epochs')\n",
    "plt.show()\n"
   ]
  }
 ],
 "metadata": {
  "kernelspec": {
   "display_name": "Python 3",
   "language": "python",
   "name": "python3"
  },
  "language_info": {
   "codemirror_mode": {
    "name": "ipython",
    "version": 3
   },
   "file_extension": ".py",
   "mimetype": "text/x-python",
   "name": "python",
   "nbconvert_exporter": "python",
   "pygments_lexer": "ipython3",
   "version": "3.9.9"
  }
 },
 "nbformat": 4,
 "nbformat_minor": 2
}
