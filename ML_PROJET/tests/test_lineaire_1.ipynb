{
 "cells": [
  {
   "cell_type": "code",
   "execution_count": 8,
   "metadata": {},
   "outputs": [],
   "source": [
    "import sys\n",
    "sys.path.append('../modules')"
   ]
  },
  {
   "cell_type": "code",
   "execution_count": 9,
   "metadata": {},
   "outputs": [],
   "source": [
    "import matplotlib.pyplot as plt\n",
    "import tensorflow as tf\n",
    "from sequential import Sequential\n",
    "from lineaire_1 import Linear\n",
    "from loss import MSELoss"
   ]
  },
  {
   "cell_type": "code",
   "execution_count": 10,
   "metadata": {},
   "outputs": [
    {
     "ename": "NameError",
     "evalue": "name 'download_mnist' is not defined",
     "output_type": "error",
     "traceback": [
      "\u001b[1;31m---------------------------------------------------------------------------\u001b[0m",
      "\u001b[1;31mNameError\u001b[0m                                 Traceback (most recent call last)",
      "Cell \u001b[1;32mIn[10], line 2\u001b[0m\n\u001b[0;32m      1\u001b[0m \u001b[38;5;66;03m# Chargement des données MNIST\u001b[39;00m\n\u001b[1;32m----> 2\u001b[0m (train_images, train_labels), (test_images, test_labels) \u001b[38;5;241m=\u001b[39m \u001b[43mdownload_mnist\u001b[49m()\n\u001b[0;32m      4\u001b[0m \u001b[38;5;66;03m# Préparation des données\u001b[39;00m\n\u001b[0;32m      5\u001b[0m train_images \u001b[38;5;241m=\u001b[39m train_images[:\u001b[38;5;241m1000\u001b[39m]  \u001b[38;5;66;03m# Utiliser un sous-ensemble pour des tests rapides\u001b[39;00m\n",
      "\u001b[1;31mNameError\u001b[0m: name 'download_mnist' is not defined"
     ]
    }
   ],
   "source": [
    "# Charger les données MNIST\n",
    "(train_images, train_labels), (test_images, test_labels) = tf.keras.datasets.mnist.load_data()\n",
    "\n",
    "# Préparer les données\n",
    "train_images = train_images.reshape(-1, 28*28) / 255.0\n",
    "train_labels = train_labels\n",
    "n_classes = 10\n",
    "train_labels_onehot = np.zeros((train_labels.size, n_classes))\n",
    "train_labels_onehot[np.arange(train_labels.size), train_labels] = 1\n",
    "\n",
    "# Définition du réseau\n",
    "net = Sequential(\n",
    "    Linear(28*28, 128),\n",
    "    Linear(128, n_classes)\n",
    ")\n",
    "\n",
    "# Définition de la fonction de perte\n",
    "loss = MSELoss()\n",
    "\n",
    "# Fonction d'évaluation\n",
    "def accuracy(y_true, y_pred):\n",
    "    return np.mean(np.argmax(y_true, axis=1) == np.argmax(y_pred, axis=1))\n",
    "\n",
    "# Entraînement du réseau\n",
    "epochs = 10\n",
    "learning_rate = 1e-3\n",
    "losses = []\n",
    "\n",
    "for epoch in range(epochs):\n",
    "    yhat = net.forward(train_images)\n",
    "    cost = loss.forward(train_labels_onehot, yhat).mean()\n",
    "    losses.append(cost)\n",
    "    \n",
    "    delta = loss.backward(train_labels_onehot, yhat)\n",
    "    net.zero_grad()\n",
    "    net.backward_update_gradient(train_images, delta)\n",
    "    net.update_parameters(gradient_step=learning_rate)\n",
    "    \n",
    "    if (epoch + 1) % 1 == 0:\n",
    "        acc = accuracy(train_labels_onehot, yhat)\n",
    "        print(f\"Epoch {epoch+1}/{epochs}, Loss: {cost:.4f}, Accuracy: {acc:.4f}\")\n",
    "\n",
    "# Affichage des résultats\n",
    "plt.plot(losses)\n",
    "plt.xlabel('Epochs')\n",
    "plt.ylabel('Loss')\n",
    "plt.title('Training Loss over Epochs')\n",
    "plt.show()\n"
   ]
  }
 ],
 "metadata": {
  "kernelspec": {
   "display_name": "Python 3",
   "language": "python",
   "name": "python3"
  },
  "language_info": {
   "codemirror_mode": {
    "name": "ipython",
    "version": 3
   },
   "file_extension": ".py",
   "mimetype": "text/x-python",
   "name": "python",
   "nbconvert_exporter": "python",
   "pygments_lexer": "ipython3",
   "version": "3.9.9"
  }
 },
 "nbformat": 4,
 "nbformat_minor": 2
}
